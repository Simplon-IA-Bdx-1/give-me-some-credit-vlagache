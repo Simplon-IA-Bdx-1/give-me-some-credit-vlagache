{
 "cells": [
  {
   "cell_type": "markdown",
   "metadata": {},
   "source": [
    "# GiveMeCredit Kaggle Submission\n",
    "\n",
    "\n",
    "----"
   ]
  },
  {
   "cell_type": "markdown",
   "metadata": {},
   "source": [
    "#### *Chargement du Dataset Full Give Me Credit - Kaggle*"
   ]
  },
  {
   "cell_type": "code",
   "execution_count": 1,
   "metadata": {
    "ExecuteTime": {
     "end_time": "2019-11-10T09:45:34.832273Z",
     "start_time": "2019-11-10T09:45:30.354054Z"
    }
   },
   "outputs": [],
   "source": [
    "from bigml.api import BigML\n",
    "from pandas import read_csv\n",
    "from ipynb.fs.defs.fonctions import features\n",
    "\n",
    "df = read_csv('https://oml-data.s3.amazonaws.com/kaggle-give-me-credit-train.csv', index_col=0)"
   ]
  },
  {
   "cell_type": "markdown",
   "metadata": {},
   "source": [
    "On stocke le train full"
   ]
  },
  {
   "cell_type": "code",
   "execution_count": 2,
   "metadata": {},
   "outputs": [
    {
     "name": "stdout",
     "output_type": "stream",
     "text": [
      "Stored 'df' (DataFrame)\n"
     ]
    }
   ],
   "source": [
    "%store df"
   ]
  },
  {
   "cell_type": "markdown",
   "metadata": {},
   "source": [
    "#### *Connexion BigML*"
   ]
  },
  {
   "cell_type": "code",
   "execution_count": 3,
   "metadata": {
    "ExecuteTime": {
     "end_time": "2019-11-10T09:45:34.843142Z",
     "start_time": "2019-11-10T09:45:34.837875Z"
    }
   },
   "outputs": [],
   "source": [
    "api = BigML(project=\"project/5d94a3525a213962e20002f5\") # AUTH dans docker/auth.env"
   ]
  },
  {
   "cell_type": "markdown",
   "metadata": {},
   "source": [
    "#### *Modifications du dataset Trainfull*"
   ]
  },
  {
   "cell_type": "code",
   "execution_count": 7,
   "metadata": {
    "ExecuteTime": {
     "end_time": "2019-11-10T09:45:38.785314Z",
     "start_time": "2019-11-10T09:45:34.845911Z"
    }
   },
   "outputs": [
    {
     "name": "stdout",
     "output_type": "stream",
     "text": [
      "Load & Modifications OK\n"
     ]
    }
   ],
   "source": [
    "df = features(df)\n",
    "df = df.round(2)\n",
    "df.to_csv('files_csv/origin_dataset_modif.csv')\n",
    "print(\"Load & Modifications OK\")"
   ]
  },
  {
   "cell_type": "markdown",
   "metadata": {
    "heading_collapsed": true
   },
   "source": [
    "#### *Création sur BIGML source -> dataset*"
   ]
  },
  {
   "cell_type": "code",
   "execution_count": 8,
   "metadata": {
    "ExecuteTime": {
     "end_time": "2019-11-10T09:45:58.564175Z",
     "start_time": "2019-11-10T09:45:38.789576Z"
    },
    "hidden": true
   },
   "outputs": [
    {
     "data": {
      "text/plain": [
       "True"
      ]
     },
     "execution_count": 8,
     "metadata": {},
     "output_type": "execute_result"
    }
   ],
   "source": [
    "# Creation d'une source\n",
    "source = api.create_source('files_csv/origin_dataset_modif.csv')\n",
    "api.ok(source)\n",
    "# Creation d'un dataset ( = source )\n",
    "origin_dataset = api.create_dataset(source)\n",
    "api.ok(origin_dataset)"
   ]
  },
  {
   "cell_type": "markdown",
   "metadata": {},
   "source": [
    "#### *Split du trainfull en Train/Test*"
   ]
  },
  {
   "cell_type": "code",
   "execution_count": 9,
   "metadata": {
    "ExecuteTime": {
     "end_time": "2019-11-10T09:45:58.584291Z",
     "start_time": "2019-11-10T09:45:58.566094Z"
    }
   },
   "outputs": [
    {
     "name": "stdout",
     "output_type": "stream",
     "text": [
      "Split OK\n"
     ]
    }
   ],
   "source": [
    "train_dataset = api.create_dataset(\n",
    "    origin_dataset, {\"name\": \"GiveMeCredit | TrainFull | Training\",\n",
    "                     \"sample_rate\": 0.8, \"seed\": \"my seed\"})\n",
    "test_dataset = api.create_dataset(\n",
    "    origin_dataset, {\"name\": \"GiveMeCredit | TrainFull | Test\",\n",
    "                     \"sample_rate\": 0.8, \"seed\": \"my seed\",\n",
    "                     \"out_of_bag\": True})\n",
    "print(\"Split OK\")"
   ]
  },
  {
   "cell_type": "markdown",
   "metadata": {},
   "source": [
    "#### *Création d'un modele ensemble sur la partie Train du dataset ( objective_field = ce qu'on cherche à prédire)*"
   ]
  },
  {
   "cell_type": "code",
   "execution_count": 10,
   "metadata": {
    "ExecuteTime": {
     "end_time": "2019-11-10T09:45:58.589188Z",
     "start_time": "2019-11-10T09:45:30.357Z"
    }
   },
   "outputs": [
    {
     "name": "stdout",
     "output_type": "stream",
     "text": [
      "Création model OK\n"
     ]
    }
   ],
   "source": [
    "ensemble = api.create_ensemble(train_dataset , {\"objective_field\" : \"SeriousDlqin2yrs\"})\n",
    "print(\"Création model OK\")"
   ]
  },
  {
   "cell_type": "markdown",
   "metadata": {},
   "source": [
    "#### *Création et téléchargement de l'évaluation de notre modèle*"
   ]
  },
  {
   "cell_type": "code",
   "execution_count": 11,
   "metadata": {
    "ExecuteTime": {
     "end_time": "2019-11-10T09:45:58.590611Z",
     "start_time": "2019-11-10T09:45:30.359Z"
    }
   },
   "outputs": [
    {
     "data": {
      "text/plain": [
       "'EvaluationModel/my_evaluation_model.json'"
      ]
     },
     "execution_count": 11,
     "metadata": {},
     "output_type": "execute_result"
    }
   ],
   "source": [
    "evaluation = api.create_evaluation(ensemble, test_dataset)\n",
    "api.export(evaluation, filename=\"EvaluationModel/my_evaluation_model.json\")"
   ]
  },
  {
   "cell_type": "markdown",
   "metadata": {},
   "source": [
    "#### *Verification du modele sur les 20% du Train Full et téléchargement*\n"
   ]
  },
  {
   "cell_type": "code",
   "execution_count": 12,
   "metadata": {
    "ExecuteTime": {
     "end_time": "2019-11-10T09:45:58.592534Z",
     "start_time": "2019-11-10T09:45:30.361Z"
    },
    "scrolled": false
   },
   "outputs": [
    {
     "data": {
      "text/plain": [
       "'files_csv/GiveMeCredit_Review_Ensemble.csv'"
      ]
     },
     "execution_count": 12,
     "metadata": {},
     "output_type": "execute_result"
    }
   ],
   "source": [
    "batch_prediction = api.create_batch_prediction(ensemble, test_dataset,{\"header\": True, \"all_fields\": True, \"probabilities\": True})\n",
    "api.ok(batch_prediction)\n",
    "api.download_batch_prediction(batch_prediction,filename='files_csv/GiveMeCredit_Review_Ensemble.csv')\n"
   ]
  },
  {
   "cell_type": "markdown",
   "metadata": {},
   "source": [
    "#### *Modifications fichier test kaggle nouvelles features*"
   ]
  },
  {
   "cell_type": "code",
   "execution_count": 15,
   "metadata": {
    "ExecuteTime": {
     "end_time": "2019-11-10T09:47:06.214954Z",
     "start_time": "2019-11-10T09:46:57.839715Z"
    }
   },
   "outputs": [
    {
     "name": "stdout",
     "output_type": "stream",
     "text": [
      "Stored 'df_test_kaggle' (DataFrame)\n",
      "Load & Modifications OK\n"
     ]
    }
   ],
   "source": [
    "df_test_kaggle = read_csv('https://oml-data.s3.amazonaws.com/kaggle-give-me-credit-test.csv', index_col=0)\n",
    "%store df_test_kaggle\n",
    "df_test_kaggle = features(df_test_kaggle)\n",
    "df_test_kaggle.to_csv('files_csv/kaggle_dataset_modif.csv')\n",
    "print(\"Load & Modifications OK\")"
   ]
  },
  {
   "cell_type": "markdown",
   "metadata": {},
   "source": [
    "#### *Création d'une source avec le fichier modifié test kaggle*"
   ]
  },
  {
   "cell_type": "code",
   "execution_count": 16,
   "metadata": {
    "ExecuteTime": {
     "end_time": "2019-11-10T09:45:58.595847Z",
     "start_time": "2019-11-10T09:45:30.365Z"
    }
   },
   "outputs": [
    {
     "data": {
      "text/plain": [
       "True"
      ]
     },
     "execution_count": 16,
     "metadata": {},
     "output_type": "execute_result"
    }
   ],
   "source": [
    "source_kaggle = api.create_source('files_csv/kaggle_dataset_modif.csv')\n",
    "api.ok(source_kaggle)"
   ]
  },
  {
   "cell_type": "markdown",
   "metadata": {},
   "source": [
    "#### *Création d'un dataset à partir de la source*"
   ]
  },
  {
   "cell_type": "code",
   "execution_count": 17,
   "metadata": {
    "ExecuteTime": {
     "end_time": "2019-11-10T09:45:58.597189Z",
     "start_time": "2019-11-10T09:45:30.367Z"
    }
   },
   "outputs": [
    {
     "data": {
      "text/plain": [
       "True"
      ]
     },
     "execution_count": 17,
     "metadata": {},
     "output_type": "execute_result"
    }
   ],
   "source": [
    "kaggle_dataset= api.create_dataset(source_kaggle)\n",
    "api.ok(kaggle_dataset)"
   ]
  },
  {
   "cell_type": "markdown",
   "metadata": {},
   "source": [
    "#### *Prédiction de notre modèle sur le fichier test de Kaggle et téléchargement*"
   ]
  },
  {
   "cell_type": "code",
   "execution_count": 18,
   "metadata": {
    "ExecuteTime": {
     "end_time": "2019-11-10T09:45:58.598271Z",
     "start_time": "2019-11-10T09:45:30.369Z"
    }
   },
   "outputs": [
    {
     "data": {
      "text/plain": [
       "'files_csv/GiveMeCredit_Prediction_Kaggle.csv'"
      ]
     },
     "execution_count": 18,
     "metadata": {},
     "output_type": "execute_result"
    }
   ],
   "source": [
    "batch_prediction_kaggle = api.create_batch_prediction(ensemble, kaggle_dataset,{\"all_fields\": True,\"probabilities\": True})\n",
    "api.ok(batch_prediction_kaggle)\n",
    "api.download_batch_prediction(batch_prediction_kaggle,filename='files_csv/GiveMeCredit_Prediction_Kaggle.csv')"
   ]
  },
  {
   "cell_type": "markdown",
   "metadata": {},
   "source": [
    "#### *Formatage du fichier de prédiction au format attendu par Kaggle*"
   ]
  },
  {
   "cell_type": "code",
   "execution_count": 19,
   "metadata": {
    "ExecuteTime": {
     "end_time": "2019-11-10T09:45:58.599432Z",
     "start_time": "2019-11-10T09:45:30.371Z"
    },
    "scrolled": true
   },
   "outputs": [
    {
     "name": "stderr",
     "output_type": "stream",
     "text": [
      "/opt/conda/lib/python3.7/site-packages/pandas/core/frame.py:4223: SettingWithCopyWarning: \n",
      "A value is trying to be set on a copy of a slice from a DataFrame\n",
      "\n",
      "See the caveats in the documentation: http://pandas.pydata.org/pandas-docs/stable/user_guide/indexing.html#returning-a-view-versus-a-copy\n",
      "  return super().rename(**kwargs)\n"
     ]
    },
    {
     "name": "stdout",
     "output_type": "stream",
     "text": [
      "Modifications OK\n"
     ]
    }
   ],
   "source": [
    "from pandas import read_csv\n",
    "\n",
    "df_final_prediction = read_csv(\"files_csv/GiveMeCredit_Prediction_Kaggle.csv\")\n",
    "keep_col = ['Id','1 probability']\n",
    "new_final_prediction = df_final_prediction[keep_col]\n",
    "new_final_prediction.rename(columns={'1 probability':'Probability'}, inplace=True)\n",
    "new_final_prediction.to_csv('files_csv/GiveMeCredit_Kaggle_format.csv', index=False)\n",
    "print(\"Modifications OK\")"
   ]
  },
  {
   "cell_type": "markdown",
   "metadata": {},
   "source": [
    "#### *Envoi de nos résultats à Kaggle*"
   ]
  },
  {
   "cell_type": "code",
   "execution_count": 20,
   "metadata": {
    "ExecuteTime": {
     "end_time": "2019-11-10T09:45:58.600483Z",
     "start_time": "2019-11-10T09:45:30.372Z"
    },
    "scrolled": true
   },
   "outputs": [
    {
     "name": "stderr",
     "output_type": "stream",
     "text": [
      "100%|██████████| 1.65M/1.65M [00:03<00:00, 496kB/s] \n"
     ]
    },
    {
     "data": {
      "text/plain": [
       "Successfully submitted to Give Me Some Credit"
      ]
     },
     "execution_count": 20,
     "metadata": {},
     "output_type": "execute_result"
    }
   ],
   "source": [
    "import kaggle\n",
    "submission_file = 'files_csv/GiveMeCredit_Kaggle_format.csv'\n",
    "kaggle.api.competition_submit(submission_file, \"BigML ensemble\", \"GiveMeSomeCredit\")"
   ]
  },
  {
   "cell_type": "code",
   "execution_count": null,
   "metadata": {},
   "outputs": [],
   "source": []
  }
 ],
 "metadata": {
  "kernelspec": {
   "display_name": "Python 3",
   "language": "python",
   "name": "python3"
  },
  "language_info": {
   "codemirror_mode": {
    "name": "ipython",
    "version": 3
   },
   "file_extension": ".py",
   "mimetype": "text/x-python",
   "name": "python",
   "nbconvert_exporter": "python",
   "pygments_lexer": "ipython3",
   "version": "3.7.4"
  },
  "toc": {
   "base_numbering": 1,
   "nav_menu": {},
   "number_sections": true,
   "sideBar": true,
   "skip_h1_title": false,
   "title_cell": "Table of Contents",
   "title_sidebar": "Contents",
   "toc_cell": false,
   "toc_position": {},
   "toc_section_display": true,
   "toc_window_display": false
  },
  "varInspector": {
   "cols": {
    "lenName": 16,
    "lenType": 16,
    "lenVar": 40
   },
   "kernels_config": {
    "python": {
     "delete_cmd_postfix": "",
     "delete_cmd_prefix": "del ",
     "library": "var_list.py",
     "varRefreshCmd": "print(var_dic_list())"
    },
    "r": {
     "delete_cmd_postfix": ") ",
     "delete_cmd_prefix": "rm(",
     "library": "var_list.r",
     "varRefreshCmd": "cat(var_dic_list()) "
    }
   },
   "types_to_exclude": [
    "module",
    "function",
    "builtin_function_or_method",
    "instance",
    "_Feature"
   ],
   "window_display": false
  }
 },
 "nbformat": 4,
 "nbformat_minor": 2
}
