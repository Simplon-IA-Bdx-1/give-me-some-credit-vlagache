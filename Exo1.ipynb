{
 "cells": [
  {
   "cell_type": "markdown",
   "metadata": {},
   "source": [
<<<<<<< HEAD:Exo1.ipynb
    "## *Exercice*\n",
    "Probabilité de défaut de remboursement d'un client particulier avec les caractéristiques suivantes : \n",
    "\n",
    "    \"RevolvingUtilizationOfUnsecuredLines\": 0.01703559,\n",
    "    \"NumberOfDependents\": 1,\n",
    "    \"DebtRatio\": 0,\n",
    "    \"age\": 42,\n",
    "    \"NumberOfOpenCreditLinesAndLoans\": 6,\n",
    "    \"NumberRealEstateLoansOrLines\": 1,\n",
    "    \"NumberOfTime30-59DaysPastDueNotWorse\": 1,\n",
    "    \"NumberOfTime60-89DaysPastDueNotWorse\": 0,\n",
    "    \"NumberOfTimes90DaysLate\": 0\n",
    "    \n",
    "\n"
=======
    "## *Exo Louis*"
>>>>>>> parent of 37a40f1... Utilisation d'un modele déja entrainé:ExoLouis.ipynb
   ]
  },
  {
   "cell_type": "code",
<<<<<<< HEAD:Exo1.ipynb
   "execution_count": 16,
   "metadata": {
    "ExecuteTime": {
     "end_time": "2019-11-16T08:27:26.695050Z",
     "start_time": "2019-11-16T08:27:26.691961Z"
=======
   "execution_count": 75,
   "metadata": {
    "ExecuteTime": {
     "end_time": "2019-11-07T16:24:10.411711Z",
     "start_time": "2019-11-07T16:24:10.408062Z"
>>>>>>> parent of 37a40f1... Utilisation d'un modele déja entrainé:ExoLouis.ipynb
    }
   },
   "outputs": [],
   "source": [
    "from pandas import read_csv\n",
    "from numpy import random\n",
    "from sklearn.model_selection import train_test_split"
   ]
  },
  {
<<<<<<< HEAD:Exo1.ipynb
   "cell_type": "markdown",
   "metadata": {},
   "source": [
    "### *On récupere le model précédement entrainé ( XGBoost ) et le train_full ( + features )*"
=======
   "cell_type": "code",
   "execution_count": 76,
   "metadata": {
    "ExecuteTime": {
     "end_time": "2019-11-07T16:24:11.319302Z",
     "start_time": "2019-11-07T16:24:10.414116Z"
    }
   },
   "outputs": [],
   "source": [
    "train_full = read_csv('https://oml-data.s3.amazonaws.com/kaggle-give-me-credit-train.csv', index_col=0)"
>>>>>>> parent of 37a40f1... Utilisation d'un modele déja entrainé:ExoLouis.ipynb
   ]
  },
  {
   "cell_type": "code",
<<<<<<< HEAD:Exo1.ipynb
   "execution_count": 17,
   "metadata": {
    "ExecuteTime": {
     "end_time": "2019-11-16T08:27:26.984286Z",
     "start_time": "2019-11-16T08:27:26.718726Z"
    },
    "scrolled": true
   },
   "outputs": [
    {
     "name": "stdout",
     "output_type": "stream",
     "text": [
      "Stored variables and their in-db values:\n",
      "df                         ->         RevolvingUtilizationOfUnsecuredLines  age \n",
      "model                      -> XGBClassifier(base_score=0.5, booster='gbtree', co\n",
      "train_prepared             ->         RevolvingUtilizationOfUnsecuredLines  age \n"
     ]
    }
   ],
   "source": [
    "%store"
   ]
  },
  {
   "cell_type": "code",
   "execution_count": 18,
   "metadata": {
    "ExecuteTime": {
     "end_time": "2019-11-16T08:27:27.078330Z",
     "start_time": "2019-11-16T08:27:26.987553Z"
=======
   "execution_count": 77,
   "metadata": {
    "ExecuteTime": {
     "end_time": "2019-11-07T16:24:11.325156Z",
     "start_time": "2019-11-07T16:24:11.322297Z"
>>>>>>> parent of 37a40f1... Utilisation d'un modele déja entrainé:ExoLouis.ipynb
    }
   },
   "outputs": [],
   "source": [
    "SEED = 42\n",
    "random.seed(SEED)"
   ]
  },
  {
   "cell_type": "code",
<<<<<<< HEAD:Exo1.ipynb
   "execution_count": 19,
   "metadata": {
    "ExecuteTime": {
     "end_time": "2019-11-16T08:27:27.106419Z",
     "start_time": "2019-11-16T08:27:27.080366Z"
=======
   "execution_count": 78,
   "metadata": {
    "ExecuteTime": {
     "end_time": "2019-11-07T16:24:13.800674Z",
     "start_time": "2019-11-07T16:24:11.327045Z"
>>>>>>> parent of 37a40f1... Utilisation d'un modele déja entrainé:ExoLouis.ipynb
    }
   },
   "outputs": [
    {
<<<<<<< HEAD:Exo1.ipynb
     "data": {
      "text/html": [
       "<div>\n",
       "<style scoped>\n",
       "    .dataframe tbody tr th:only-of-type {\n",
       "        vertical-align: middle;\n",
       "    }\n",
       "\n",
       "    .dataframe tbody tr th {\n",
       "        vertical-align: top;\n",
       "    }\n",
       "\n",
       "    .dataframe thead th {\n",
       "        text-align: right;\n",
       "    }\n",
       "</style>\n",
       "<table border=\"1\" class=\"dataframe\">\n",
       "  <thead>\n",
       "    <tr style=\"text-align: right;\">\n",
       "      <th></th>\n",
       "      <th>RevolvingUtilizationOfUnsecuredLines</th>\n",
       "      <th>age</th>\n",
       "      <th>NumberOfTime30-59DaysPastDueNotWorse</th>\n",
       "      <th>DebtRatio</th>\n",
       "      <th>MonthlyIncome</th>\n",
       "      <th>NumberOfOpenCreditLinesAndLoans</th>\n",
       "      <th>NumberOfTimes90DaysLate</th>\n",
       "      <th>NumberRealEstateLoansOrLines</th>\n",
       "      <th>NumberOfTime60-89DaysPastDueNotWorse</th>\n",
       "      <th>NumberOfDependents</th>\n",
       "      <th>SeriousDlqin2yrs</th>\n",
       "    </tr>\n",
       "  </thead>\n",
       "  <tbody>\n",
       "    <tr>\n",
       "      <td>1</td>\n",
       "      <td>0.766127</td>\n",
       "      <td>45</td>\n",
       "      <td>2</td>\n",
       "      <td>0.802982</td>\n",
       "      <td>9120.0</td>\n",
       "      <td>13</td>\n",
       "      <td>0</td>\n",
       "      <td>6</td>\n",
       "      <td>0</td>\n",
       "      <td>2.0</td>\n",
       "      <td>1</td>\n",
       "    </tr>\n",
       "  </tbody>\n",
       "</table>\n",
       "</div>"
      ],
      "text/plain": [
       "   RevolvingUtilizationOfUnsecuredLines  age  \\\n",
       "1                              0.766127   45   \n",
       "\n",
       "   NumberOfTime30-59DaysPastDueNotWorse  DebtRatio  MonthlyIncome  \\\n",
       "1                                     2   0.802982         9120.0   \n",
       "\n",
       "   NumberOfOpenCreditLinesAndLoans  NumberOfTimes90DaysLate  \\\n",
       "1                               13                        0   \n",
       "\n",
       "   NumberRealEstateLoansOrLines  NumberOfTime60-89DaysPastDueNotWorse  \\\n",
       "1                             6                                     0   \n",
       "\n",
       "   NumberOfDependents  SeriousDlqin2yrs  \n",
       "1                 2.0                 1  "
      ]
     },
     "execution_count": 19,
     "metadata": {},
     "output_type": "execute_result"
=======
     "name": "stdout",
     "output_type": "stream",
     "text": [
      "Train full shape: (150000, 11)\n",
      "Train shape: (120000, 11)\n",
      "Val shape: (30000, 11)\n"
     ]
>>>>>>> parent of 37a40f1... Utilisation d'un modele déja entrainé:ExoLouis.ipynb
    }
   ],
   "source": [
    "VAL_SIZE = 0.2\n",
    "train, val = train_test_split(train_full, test_size=VAL_SIZE)\n",
    "\n",
    "print(\"Train full shape: \" + str(train_full.shape))\n",
    "print(\"Train shape: \" + str(train.shape))\n",
    "print(\"Val shape: \" + str(val.shape))\n",
    "\n",
    "train.to_csv(\"files_csv/exolouis_train.csv\")\n",
    "val.to_csv(\"files_csv/exolouis_val.csv\")"
   ]
  },
  {
   "cell_type": "code",
<<<<<<< HEAD:Exo1.ipynb
   "execution_count": 20,
   "metadata": {
    "ExecuteTime": {
     "end_time": "2019-11-16T08:27:27.127898Z",
     "start_time": "2019-11-16T08:27:27.111148Z"
    }
   },
   "outputs": [
    {
     "data": {
      "text/plain": [
       "array(['RevolvingUtilizationOfUnsecuredLines', 'age',\n",
       "       'NumberOfTime30-59DaysPastDueNotWorse', 'DebtRatio',\n",
       "       'MonthlyIncome', 'NumberOfOpenCreditLinesAndLoans',\n",
       "       'NumberOfTimes90DaysLate', 'NumberRealEstateLoansOrLines',\n",
       "       'NumberOfTime60-89DaysPastDueNotWorse', 'NumberOfDependents',\n",
       "       'SeriousDlqin2yrs'], dtype=object)"
      ]
     },
     "execution_count": 20,
     "metadata": {},
     "output_type": "execute_result"
    }
   ],
=======
   "execution_count": 79,
   "metadata": {
    "ExecuteTime": {
     "end_time": "2019-11-07T16:24:13.985396Z",
     "start_time": "2019-11-07T16:24:13.802528Z"
    }
   },
   "outputs": [],
>>>>>>> parent of 37a40f1... Utilisation d'un modele déja entrainé:ExoLouis.ipynb
   "source": [
    "train_prepared = read_csv('files_csv/exolouis_train.csv', index_col=0)\n",
    "val_prepared = read_csv('files_csv/exolouis_val.csv', index_col=0)"
   ]
  },
  {
   "cell_type": "code",
<<<<<<< HEAD:Exo1.ipynb
   "execution_count": 21,
   "metadata": {
    "ExecuteTime": {
     "end_time": "2019-11-16T08:27:27.155985Z",
     "start_time": "2019-11-16T08:27:27.130372Z"
=======
   "execution_count": 80,
   "metadata": {
    "ExecuteTime": {
     "end_time": "2019-11-07T16:24:13.998842Z",
     "start_time": "2019-11-07T16:24:13.990808Z"
>>>>>>> parent of 37a40f1... Utilisation d'un modele déja entrainé:ExoLouis.ipynb
    }
   },
   "outputs": [
    {
<<<<<<< HEAD:Exo1.ipynb
     "data": {
      "text/html": [
       "<div>\n",
       "<style scoped>\n",
       "    .dataframe tbody tr th:only-of-type {\n",
       "        vertical-align: middle;\n",
       "    }\n",
       "\n",
       "    .dataframe tbody tr th {\n",
       "        vertical-align: top;\n",
       "    }\n",
       "\n",
       "    .dataframe thead th {\n",
       "        text-align: right;\n",
       "    }\n",
       "</style>\n",
       "<table border=\"1\" class=\"dataframe\">\n",
       "  <thead>\n",
       "    <tr style=\"text-align: right;\">\n",
       "      <th></th>\n",
       "      <th>RevolvingUtilizationOfUnsecuredLines</th>\n",
       "      <th>age</th>\n",
       "      <th>NumberOfTime30-59DaysPastDueNotWorse</th>\n",
       "      <th>DebtRatio</th>\n",
       "      <th>MonthlyIncome</th>\n",
       "      <th>NumberOfOpenCreditLinesAndLoans</th>\n",
       "      <th>NumberOfTimes90DaysLate</th>\n",
       "      <th>NumberRealEstateLoansOrLines</th>\n",
       "      <th>NumberOfTime60-89DaysPastDueNotWorse</th>\n",
       "      <th>NumberOfDependents</th>\n",
       "      <th>SeriousDlqin2yrs</th>\n",
       "    </tr>\n",
       "  </thead>\n",
       "  <tbody>\n",
       "  </tbody>\n",
       "</table>\n",
       "</div>"
      ],
      "text/plain": [
       "Empty DataFrame\n",
       "Columns: [RevolvingUtilizationOfUnsecuredLines, age, NumberOfTime30-59DaysPastDueNotWorse, DebtRatio, MonthlyIncome, NumberOfOpenCreditLinesAndLoans, NumberOfTimes90DaysLate, NumberRealEstateLoansOrLines, NumberOfTime60-89DaysPastDueNotWorse, NumberOfDependents, SeriousDlqin2yrs]\n",
       "Index: []"
      ]
     },
     "execution_count": 21,
     "metadata": {},
     "output_type": "execute_result"
=======
     "name": "stdout",
     "output_type": "stream",
     "text": [
      "[0 0 0 ... 0 0 0]\n"
     ]
>>>>>>> parent of 37a40f1... Utilisation d'un modele déja entrainé:ExoLouis.ipynb
    }
   ],
   "source": [
    "target_column = 'SeriousDlqin2yrs'\n",
    "y_train = train_prepared[target_column].values\n",
    "print(y_train)"
   ]
  },
  {
   "cell_type": "code",
<<<<<<< HEAD:Exo1.ipynb
   "execution_count": 22,
   "metadata": {
    "ExecuteTime": {
     "end_time": "2019-11-16T08:27:27.180598Z",
     "start_time": "2019-11-16T08:27:27.158996Z"
=======
   "execution_count": 81,
   "metadata": {
    "ExecuteTime": {
     "end_time": "2019-11-07T16:24:14.021851Z",
     "start_time": "2019-11-07T16:24:14.003497Z"
>>>>>>> parent of 37a40f1... Utilisation d'un modele déja entrainé:ExoLouis.ipynb
    }
   },
   "outputs": [
    {
<<<<<<< HEAD:Exo1.ipynb
     "data": {
      "text/html": [
       "<div>\n",
       "<style scoped>\n",
       "    .dataframe tbody tr th:only-of-type {\n",
       "        vertical-align: middle;\n",
       "    }\n",
       "\n",
       "    .dataframe tbody tr th {\n",
       "        vertical-align: top;\n",
       "    }\n",
       "\n",
       "    .dataframe thead th {\n",
       "        text-align: right;\n",
       "    }\n",
       "</style>\n",
       "<table border=\"1\" class=\"dataframe\">\n",
       "  <thead>\n",
       "    <tr style=\"text-align: right;\">\n",
       "      <th></th>\n",
       "      <th>RevolvingUtilizationOfUnsecuredLines</th>\n",
       "      <th>NumberOfDependents</th>\n",
       "      <th>DebtRatio</th>\n",
       "      <th>age</th>\n",
       "      <th>NumberOfOpenCreditLinesAndLoans</th>\n",
       "      <th>NumberRealEstateLoansOrLines</th>\n",
       "      <th>NumberOfTime30-59DaysPastDueNotWorse</th>\n",
       "      <th>NumberOfTime60-89DaysPastDueNotWorse</th>\n",
       "      <th>NumberOfTimes90DaysLate</th>\n",
       "    </tr>\n",
       "  </thead>\n",
       "  <tbody>\n",
       "    <tr>\n",
       "      <td>0</td>\n",
       "      <td>0.017036</td>\n",
       "      <td>1</td>\n",
       "      <td>0</td>\n",
       "      <td>42</td>\n",
       "      <td>6</td>\n",
       "      <td>1</td>\n",
       "      <td>1</td>\n",
       "      <td>0</td>\n",
       "      <td>0</td>\n",
       "    </tr>\n",
       "  </tbody>\n",
       "</table>\n",
       "</div>"
      ],
      "text/plain": [
       "   RevolvingUtilizationOfUnsecuredLines  NumberOfDependents  DebtRatio  age  \\\n",
       "0                              0.017036                   1          0   42   \n",
       "\n",
       "   NumberOfOpenCreditLinesAndLoans  NumberRealEstateLoansOrLines  \\\n",
       "0                                6                             1   \n",
       "\n",
       "   NumberOfTime30-59DaysPastDueNotWorse  NumberOfTime60-89DaysPastDueNotWorse  \\\n",
       "0                                     1                                     0   \n",
       "\n",
       "   NumberOfTimes90DaysLate  \n",
       "0                        0  "
      ]
     },
     "execution_count": 22,
     "metadata": {},
     "output_type": "execute_result"
=======
     "name": "stdout",
     "output_type": "stream",
     "text": [
      "array([[ 0.        , 29.        ,  0.        , ...,  0.        ,\n",
      "         0.        ,  0.        ],\n",
      "       [ 0.59552649, 55.        ,  0.        , ...,  1.        ,\n",
      "         0.        ,  0.        ],\n",
      "       [ 0.        , 43.        ,  0.        , ...,  0.        ,\n",
      "         0.        ,  4.        ],\n",
      "       ...,\n",
      "       [ 0.06878829, 49.        ,  0.        , ...,  2.        ,\n",
      "         0.        ,  0.        ],\n",
      "       [ 0.21963006, 36.        ,  0.        , ...,  0.        ,\n",
      "         0.        ,  0.        ],\n",
      "       [ 0.20805084, 62.        ,  1.        , ...,  0.        ,\n",
      "         1.        ,  0.        ]])\n"
     ]
>>>>>>> parent of 37a40f1... Utilisation d'un modele déja entrainé:ExoLouis.ipynb
    }
   ],
   "source": [
    "from pprint import pprint\n",
    "X_train = train_prepared.drop(target_column, axis=1).values\n",
    "pprint(X_train)"
   ]
  },
  {
   "cell_type": "code",
   "execution_count": 82,
   "metadata": {
    "ExecuteTime": {
     "end_time": "2019-11-07T16:24:14.041996Z",
     "start_time": "2019-11-07T16:24:14.030771Z"
    }
   },
   "outputs": [],
   "source": [
    "X_val = val_prepared.drop(target_column, axis=1).values\n",
    "y_val = val_prepared[target_column].values"
   ]
  },
  {
   "cell_type": "code",
<<<<<<< HEAD:Exo1.ipynb
   "execution_count": 23,
   "metadata": {
    "ExecuteTime": {
     "end_time": "2019-11-16T08:27:27.220293Z",
     "start_time": "2019-11-16T08:27:27.185590Z"
=======
   "execution_count": 83,
   "metadata": {
    "ExecuteTime": {
     "end_time": "2019-11-07T16:24:20.382758Z",
     "start_time": "2019-11-07T16:24:14.046605Z"
>>>>>>> parent of 37a40f1... Utilisation d'un modele déja entrainé:ExoLouis.ipynb
    }
   },
   "outputs": [
    {
     "data": {
      "text/plain": [
       "XGBClassifier(base_score=0.5, booster='gbtree', colsample_bylevel=1,\n",
       "       colsample_bynode=1, colsample_bytree=1, gamma=0, learning_rate=0.1,\n",
       "       max_delta_step=0, max_depth=3, min_child_weight=1, missing=None,\n",
       "       n_estimators=100, n_jobs=1, nthread=None,\n",
       "       objective='binary:logistic', random_state=0, reg_alpha=0,\n",
       "       reg_lambda=1, scale_pos_weight=1, seed=None, silent=None,\n",
       "       subsample=1, verbosity=1)"
      ]
     },
<<<<<<< HEAD:Exo1.ipynb
     "execution_count": 23,
=======
     "execution_count": 83,
>>>>>>> parent of 37a40f1... Utilisation d'un modele déja entrainé:ExoLouis.ipynb
     "metadata": {},
     "output_type": "execute_result"
    }
   ],
   "source": [
<<<<<<< HEAD:Exo1.ipynb
    "test_set = df_trainfull.append(df_client, sort=False)\n",
    "test_set"
   ]
  },
  {
   "cell_type": "markdown",
   "metadata": {},
   "source": [
    "### *Ajout des features au dataframe*\n",
    "Interets de rajouter les features toutes à zero ??? "
=======
    "from xgboost import XGBClassifier\n",
    "model = XGBClassifier()\n",
    "model.fit(X_train, y_train)"
>>>>>>> parent of 37a40f1... Utilisation d'un modele déja entrainé:ExoLouis.ipynb
   ]
  },
  {
   "cell_type": "code",
<<<<<<< HEAD:Exo1.ipynb
   "execution_count": 24,
   "metadata": {
    "ExecuteTime": {
     "end_time": "2019-11-16T08:27:27.271553Z",
     "start_time": "2019-11-16T08:27:27.222666Z"
=======
   "execution_count": 84,
   "metadata": {
    "ExecuteTime": {
     "end_time": "2019-11-07T16:24:20.454193Z",
     "start_time": "2019-11-07T16:24:20.384738Z"
>>>>>>> parent of 37a40f1... Utilisation d'un modele déja entrainé:ExoLouis.ipynb
    }
   },
   "outputs": [
    {
<<<<<<< HEAD:Exo1.ipynb
     "data": {
      "text/html": [
       "<div>\n",
       "<style scoped>\n",
       "    .dataframe tbody tr th:only-of-type {\n",
       "        vertical-align: middle;\n",
       "    }\n",
       "\n",
       "    .dataframe tbody tr th {\n",
       "        vertical-align: top;\n",
       "    }\n",
       "\n",
       "    .dataframe thead th {\n",
       "        text-align: right;\n",
       "    }\n",
       "</style>\n",
       "<table border=\"1\" class=\"dataframe\">\n",
       "  <thead>\n",
       "    <tr style=\"text-align: right;\">\n",
       "      <th></th>\n",
       "      <th>RevolvingUtilizationOfUnsecuredLines</th>\n",
       "      <th>age</th>\n",
       "      <th>NumberOfTime30-59DaysPastDueNotWorse</th>\n",
       "      <th>DebtRatio</th>\n",
       "      <th>MonthlyIncome</th>\n",
       "      <th>NumberOfOpenCreditLinesAndLoans</th>\n",
       "      <th>NumberOfTimes90DaysLate</th>\n",
       "      <th>NumberRealEstateLoansOrLines</th>\n",
       "      <th>NumberOfTime60-89DaysPastDueNotWorse</th>\n",
       "      <th>NumberOfDependents</th>\n",
       "      <th>SeriousDlqin2yrs</th>\n",
       "      <th>IncomePerPerson</th>\n",
       "      <th>MonthlyDebt</th>\n",
       "      <th>MonthlyBalance</th>\n",
       "      <th>DebtPerPerson</th>\n",
       "      <th>BalancePerPerson</th>\n",
       "      <th>NumberOfTime30-89DaysPastDueNotWorse</th>\n",
       "      <th>NumbersOfOpen-NumberRealEstate</th>\n",
       "    </tr>\n",
       "    <tr>\n",
       "      <th>Id</th>\n",
       "      <th></th>\n",
       "      <th></th>\n",
       "      <th></th>\n",
       "      <th></th>\n",
       "      <th></th>\n",
       "      <th></th>\n",
       "      <th></th>\n",
       "      <th></th>\n",
       "      <th></th>\n",
       "      <th></th>\n",
       "      <th></th>\n",
       "      <th></th>\n",
       "      <th></th>\n",
       "      <th></th>\n",
       "      <th></th>\n",
       "      <th></th>\n",
       "      <th></th>\n",
       "      <th></th>\n",
       "    </tr>\n",
       "  </thead>\n",
       "  <tbody>\n",
       "    <tr>\n",
       "      <td>0</td>\n",
       "      <td>0.017036</td>\n",
       "      <td>42</td>\n",
       "      <td>1</td>\n",
       "      <td>0</td>\n",
       "      <td>0</td>\n",
       "      <td>6</td>\n",
       "      <td>0</td>\n",
       "      <td>1</td>\n",
       "      <td>0</td>\n",
       "      <td>1</td>\n",
       "      <td>0</td>\n",
       "      <td>0</td>\n",
       "      <td>0</td>\n",
       "      <td>0</td>\n",
       "      <td>0</td>\n",
       "      <td>0</td>\n",
       "      <td>1</td>\n",
       "      <td>5</td>\n",
       "    </tr>\n",
       "  </tbody>\n",
       "</table>\n",
       "</div>"
      ],
      "text/plain": [
       "    RevolvingUtilizationOfUnsecuredLines  age  \\\n",
       "Id                                              \n",
       "0                               0.017036   42   \n",
       "\n",
       "    NumberOfTime30-59DaysPastDueNotWorse  DebtRatio  MonthlyIncome  \\\n",
       "Id                                                                   \n",
       "0                                      1          0              0   \n",
       "\n",
       "    NumberOfOpenCreditLinesAndLoans  NumberOfTimes90DaysLate  \\\n",
       "Id                                                             \n",
       "0                                 6                        0   \n",
       "\n",
       "    NumberRealEstateLoansOrLines  NumberOfTime60-89DaysPastDueNotWorse  \\\n",
       "Id                                                                       \n",
       "0                              1                                     0   \n",
       "\n",
       "    NumberOfDependents  SeriousDlqin2yrs  IncomePerPerson  MonthlyDebt  \\\n",
       "Id                                                                       \n",
       "0                    1                 0                0            0   \n",
       "\n",
       "    MonthlyBalance  DebtPerPerson  BalancePerPerson  \\\n",
       "Id                                                    \n",
       "0                0              0                 0   \n",
       "\n",
       "    NumberOfTime30-89DaysPastDueNotWorse  NumbersOfOpen-NumberRealEstate  \n",
       "Id                                                                        \n",
       "0                                      1                               5  "
      ]
     },
     "execution_count": 24,
     "metadata": {},
     "output_type": "execute_result"
    }
   ],
   "source": [
    "from ipynb.fs.defs.fonctions import features\n",
    "test_set = features(test_set)\n",
    "test_set"
   ]
  },
  {
   "cell_type": "markdown",
   "metadata": {},
   "source": [
    "### *Prédiction avec le modéle*"
   ]
  },
  {
   "cell_type": "markdown",
   "metadata": {},
   "source": [
    "#### *Verification conformité test_set avec les datas qui ont permis d'entrainer le modele*"
=======
     "name": "stdout",
     "output_type": "stream",
     "text": [
      "[[0.9916705  0.00832953]\n",
      " [0.9887926  0.01120739]\n",
      " [0.98952216 0.01047781]\n",
      " ...\n",
      " [0.9094192  0.09058084]\n",
      " [0.9917732  0.00822679]\n",
      " [0.9855777  0.01442228]]\n"
     ]
    }
   ],
   "source": [
    "y_val_proba = model.predict_proba(X_val)\n",
    "print(y_val_proba) # 1 Proba"
>>>>>>> parent of 37a40f1... Utilisation d'un modele déja entrainé:ExoLouis.ipynb
   ]
  },
  {
   "cell_type": "code",
<<<<<<< HEAD:Exo1.ipynb
   "execution_count": 25,
   "metadata": {
    "ExecuteTime": {
     "end_time": "2019-11-16T08:27:27.283992Z",
     "start_time": "2019-11-16T08:27:27.273787Z"
=======
   "execution_count": 85,
   "metadata": {
    "ExecuteTime": {
     "end_time": "2019-11-07T16:24:20.460637Z",
     "start_time": "2019-11-07T16:24:20.456143Z"
>>>>>>> parent of 37a40f1... Utilisation d'un modele déja entrainé:ExoLouis.ipynb
    }
   },
   "outputs": [
    {
     "name": "stdout",
     "output_type": "stream",
     "text": [
      "[0.00832953 0.01120739 0.01047781 ... 0.09058084 0.00822679 0.01442228]\n"
     ]
    }
   ],
   "source": [
    "y_val_proba = y_val_proba[:,1]\n",
    "print(y_val_proba)"
   ]
  },
  {
   "cell_type": "code",
<<<<<<< HEAD:Exo1.ipynb
   "execution_count": 26,
   "metadata": {
    "ExecuteTime": {
     "end_time": "2019-11-16T08:27:27.301461Z",
     "start_time": "2019-11-16T08:27:27.286340Z"
=======
   "execution_count": 86,
   "metadata": {
    "ExecuteTime": {
     "end_time": "2019-11-07T16:24:20.499605Z",
     "start_time": "2019-11-07T16:24:20.462724Z"
>>>>>>> parent of 37a40f1... Utilisation d'un modele déja entrainé:ExoLouis.ipynb
    }
   },
   "outputs": [
    {
<<<<<<< HEAD:Exo1.ipynb
     "name": "stdout",
     "output_type": "stream",
     "text": [
      "(105000, 18)\n",
      "RevolvingUtilizationOfUnsecuredLines    float64\n",
      "age                                       int64\n",
      "NumberOfTime30-59DaysPastDueNotWorse      int64\n",
      "DebtRatio                               float64\n",
      "MonthlyIncome                           float64\n",
      "NumberOfOpenCreditLinesAndLoans           int64\n",
      "NumberOfTimes90DaysLate                   int64\n",
      "NumberRealEstateLoansOrLines              int64\n",
      "NumberOfTime60-89DaysPastDueNotWorse      int64\n",
      "NumberOfDependents                      float64\n",
      "SeriousDlqin2yrs                          int64\n",
      "IncomePerPerson                         float64\n",
      "MonthlyDebt                             float64\n",
      "MonthlyBalance                          float64\n",
      "DebtPerPerson                           float64\n",
      "BalancePerPerson                        float64\n",
      "NumberOfTime30-89DaysPastDueNotWorse      int64\n",
      "NumbersOfOpen-NumberRealEstate            int64\n",
      "dtype: object\n"
     ]
=======
     "data": {
      "text/plain": [
       "0.8638985344823311"
      ]
     },
     "execution_count": 86,
     "metadata": {},
     "output_type": "execute_result"
>>>>>>> parent of 37a40f1... Utilisation d'un modele déja entrainé:ExoLouis.ipynb
    }
   ],
   "source": [
    "from sklearn import metrics\n",
    "metrics.roc_auc_score(y_val, y_val_proba)"
   ]
  },
  {
   "cell_type": "code",
<<<<<<< HEAD:Exo1.ipynb
   "execution_count": 27,
   "metadata": {
    "ExecuteTime": {
     "end_time": "2019-11-16T08:27:27.321816Z",
     "start_time": "2019-11-16T08:27:27.304325Z"
=======
   "execution_count": 87,
   "metadata": {
    "ExecuteTime": {
     "end_time": "2019-11-07T16:24:20.522739Z",
     "start_time": "2019-11-07T16:24:20.501442Z"
>>>>>>> parent of 37a40f1... Utilisation d'un modele déja entrainé:ExoLouis.ipynb
    }
   },
   "outputs": [],
   "source": [
    "import pandas as pd \n",
    "\n",
    "val_prepared = val_prepared.iloc[0:0]\n",
    "val_prepared.head()\n",
    "\n",
    "\n",
    "d = {\n",
    "    \"RevolvingUtilizationOfUnsecuredLines\": 0.01703559,\n",
    "    \"NumberOfDependents\": 1,\n",
    "    \"DebtRatio\": 0,\n",
    "    \"age\": 42,\n",
    "    \"NumberOfOpenCreditLinesAndLoans\": 6,\n",
    "    \"NumberRealEstateLoansOrLines\": 1,\n",
    "    \"NumberOfTime30-59DaysPastDueNotWorse\": 1,\n",
    "    \"NumberOfTime60-89DaysPastDueNotWorse\": 0,\n",
    "    \"NumberOfTimes90DaysLate\": 0\n",
    "}\n",
    "\n",
    "test_set = val_prepared.append([d])\n",
    "X_kag = test_set.drop(target_column, axis=1).values\n",
    "y_kag = test_set[target_column].values\n",
    "y_kag_proba =  model.predict_proba(X_kag)[:,1] # toutes les lignes colonnes 1\n"
   ]
  },
  {
   "cell_type": "code",
<<<<<<< HEAD:Exo1.ipynb
   "execution_count": 28,
   "metadata": {
    "ExecuteTime": {
     "end_time": "2019-11-16T08:27:27.351005Z",
     "start_time": "2019-11-16T08:27:27.328316Z"
=======
   "execution_count": 88,
   "metadata": {
    "ExecuteTime": {
     "end_time": "2019-11-07T16:24:20.546465Z",
     "start_time": "2019-11-07T16:24:20.525283Z"
>>>>>>> parent of 37a40f1... Utilisation d'un modele déja entrainé:ExoLouis.ipynb
    }
   },
   "outputs": [
    {
     "name": "stdout",
     "output_type": "stream",
     "text": [
<<<<<<< HEAD:Exo1.ipynb
      "la probabilité que le client soit en défaut de paiement est de : 3.2843098044395447 % \n"
=======
      "la 1 proba est [0.03243686]\n"
>>>>>>> parent of 37a40f1... Utilisation d'un modele déja entrainé:ExoLouis.ipynb
     ]
    }
   ],
   "source": [
    "print(f\"la 1 proba est {y_kag_proba}\")"
   ]
  }
 ],
 "metadata": {
  "kernelspec": {
   "display_name": "Python 3",
   "language": "python",
   "name": "python3"
  },
  "language_info": {
   "codemirror_mode": {
    "name": "ipython",
    "version": 3
   },
   "file_extension": ".py",
   "mimetype": "text/x-python",
   "name": "python",
   "nbconvert_exporter": "python",
   "pygments_lexer": "ipython3",
   "version": "3.7.4"
  },
  "toc": {
   "base_numbering": 1,
   "nav_menu": {},
   "number_sections": true,
   "sideBar": true,
   "skip_h1_title": false,
   "title_cell": "Table of Contents",
   "title_sidebar": "Contents",
   "toc_cell": false,
   "toc_position": {},
   "toc_section_display": true,
   "toc_window_display": false
  },
  "varInspector": {
   "cols": {
    "lenName": 16,
    "lenType": 16,
    "lenVar": 40
   },
   "kernels_config": {
    "python": {
     "delete_cmd_postfix": "",
     "delete_cmd_prefix": "del ",
     "library": "var_list.py",
     "varRefreshCmd": "print(var_dic_list())"
    },
    "r": {
     "delete_cmd_postfix": ") ",
     "delete_cmd_prefix": "rm(",
     "library": "var_list.r",
     "varRefreshCmd": "cat(var_dic_list()) "
    }
   },
   "types_to_exclude": [
    "module",
    "function",
    "builtin_function_or_method",
    "instance",
    "_Feature"
   ],
   "window_display": false
  }
 },
 "nbformat": 4,
 "nbformat_minor": 2
}
