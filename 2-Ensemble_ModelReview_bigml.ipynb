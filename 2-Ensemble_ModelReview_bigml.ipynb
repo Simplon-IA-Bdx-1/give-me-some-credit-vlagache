{
 "cells": [
  {
   "cell_type": "markdown",
   "metadata": {},
   "source": [
    "# Model review - GiveMeCredit - Ensemble"
   ]
  },
  {
   "cell_type": "markdown",
   "metadata": {},
   "source": [
    "### *Fonctions* ###"
   ]
  },
  {
   "cell_type": "code",
   "execution_count": 1,
   "metadata": {},
   "outputs": [],
   "source": [
    "def threshold(row):\n",
    "    if row['1 probability'] < threshold_value:\n",
    "        prediction_value = 0\n",
    "    else: \n",
    "        prediction_value = 1\n",
    "    return prediction_value\n",
    "\n",
    "def error_column(row):\n",
    "    if(row['SeriousDlqin2yrs'] == 0 and row['prediction'] == 0):\n",
    "        error_value = 'TN'\n",
    "    if(row['SeriousDlqin2yrs'] == 1 and row['prediction'] == 0):\n",
    "        error_value = 'FN'\n",
    "    if(row['SeriousDlqin2yrs'] == 0 and row['prediction'] == 1):\n",
    "        error_value = 'FP'\n",
    "    if(row['SeriousDlqin2yrs'] == 1 and row['prediction'] == 1):\n",
    "        error_value = 'TP'\n",
    "    return error_value\n",
    "\n",
    "def confusion_matrix():\n",
    "    idx = pd.Index(df['error'])\n",
    "    count_matrix = idx.value_counts() \n",
    "    return count_matrix\n",
    "\n",
    "def get_accuracy():\n",
    "    matrix = list(df.error.values)\n",
    "    tn = matrix.count('TN')\n",
    "    fn = matrix.count('FN')\n",
    "    tp = matrix.count('TP')\n",
    "    fp = matrix.count('FP')\n",
    "    total = tn + fn + tp + fp\n",
    "    accuracy = ((tp + tn ) / total ) * 100\n",
    "    return accuracy\n",
    "\n",
    "def get_profits():\n",
    "    matrix = list(df.error.values)\n",
    "    val_tn = 500\n",
    "    val_fn = -2500\n",
    "    val_tp = 0\n",
    "    val_fp = -500\n",
    "    profits = matrix.count('TN') * val_tn + matrix.count('FN') * val_fn + matrix.count('TP') * val_tp + matrix.count('FP') * val_fp\n",
    "    return profits\n",
    "\n",
    "# On cherche parmis les FN ( Prediction = 0 , Réalité  = 1 ) les plus petites 1 Proba ( Le modele prédisait quasi certainement 0)\n",
    "def biggest_mistakes():\n",
    "    filtered = df.loc[df['error'].isin([\"FN\"])]\n",
    "    filtered = (filtered.nsmallest(100, '1 probability'))\n",
    "    filtered.to_csv(\"files_csv/100_biggest_mistakes.csv\")\n",
    "\n",
    "\n",
    "def matrix(threshold): \n",
    "    # Return True si 1 Proba > seuil & False si 1 Proba < seuil\n",
    "    prediction_threshold = df['1 probability'] > threshold\n",
    "    \n",
    "    P_pred = prediction_threshold # Renvoie True si 1 proba > seuil ( sinon False )\n",
    "    N_pred = ~prediction_threshold # Renvoie True si 1 proba < seuil ( sinon False )\n",
    "    \n",
    "    P_real = (df['SeriousDlqin2yrs'] == 1) # Renvoie True si SeriousDlqin2Yrs == 1 ( sinon False )\n",
    "    N_real = (df['SeriousDlqin2yrs'] == 0) # Renvoie True si SeriousDlqin2Yrs == 0 ( sinon False )\n",
    "    \n",
    "    # P_pred True si 1 proba > seuil Prediction =  1 , P_real True si Realite = 1 \n",
    "    TP = len(df.loc[P_pred & P_real])\n",
    "    # N_pred True = si 1 proba < seuil = Prediction = 0 , N_real True si Realité 0 \n",
    "    TN = len(df.loc[N_pred & N_real])\n",
    "    # P_pred True si 1 proba > seuil Prediction = 1 , N_real True si Réalite = 0\n",
    "    FP = len(df.loc[P_pred & N_real])\n",
    "    # N_pred True si 1 proba < seuil =  Prediction 0 , P_real True si Realité = 1\n",
    "    FN = len(df.loc[N_pred & P_real])\n",
    "    \n",
    "    matrix = []\n",
    "    matrix.append(int(TP))\n",
    "    matrix.append(int(TN))\n",
    "    matrix.append(int(FP))\n",
    "    matrix.append(int(FN))\n",
    "    \n",
    "    return matrix\n",
    "    \n",
    "def cost_threshold(threshold):\n",
    "    matrix_list = matrix(threshold)\n",
    "    \n",
    "    TP = matrix_list[0]\n",
    "    TN = matrix_list[1]\n",
    "    FP = matrix_list[2]\n",
    "    FN = matrix_list[3]\n",
    "    \n",
    "    TP_cost = 0\n",
    "    FN_cost = -2500\n",
    "    FP_cost = -500\n",
    "    TN_cost = 500\n",
    "    \n",
    "    cost = TP * TP_cost\n",
    "    cost += TN * TN_cost\n",
    "    cost += FP * FP_cost\n",
    "    cost += FN * FN_cost\n",
    "    \n",
    "    return cost\n",
    "\n",
    "# FPR ( False positive Rate ) => FP /  (FP + TN) => On prédit 1 réalité 0 /  Toutes les fois ou à la réalité = 0 \n",
    "def false_positive_rate(threshold):\n",
    "    matrix_list = matrix(threshold)\n",
    "    \n",
    "    TP = matrix_list[0]\n",
    "    TN = matrix_list[1]\n",
    "    FP = matrix_list[2]\n",
    "    FN = matrix_list[3]\n",
    "    \n",
    "    fpr = (FP / ( FP + TN )) * 100\n",
    "    return fpr \n",
    "\n",
    "# TPR ( True positive Rate ) => TP / ( TP + FN ) => On prédit 1 réalité 1 / Toutes les fois ou la réalité = 1 \n",
    "def true_positive_rate(threshold):\n",
    "    matrix_list = matrix(threshold)\n",
    "    \n",
    "    TP = matrix_list[0]\n",
    "    TN = matrix_list[1]\n",
    "    FP = matrix_list[2]\n",
    "    FN = matrix_list[3]\n",
    "    \n",
    "    tpr = (TP / ( TP + FN )) * 100\n",
    "    return tpr \n",
    "\n",
    "# true_positive_rate(0) = 100\n",
    "# false_positive_rate(0) = 100"
   ]
  },
  {
   "cell_type": "markdown",
   "metadata": {},
   "source": [
    "#### *Définition du seuil* "
   ]
  },
  {
   "cell_type": "code",
   "execution_count": 2,
   "metadata": {},
   "outputs": [],
   "source": [
    "threshold_value = 0.5"
   ]
  },
  {
   "cell_type": "markdown",
   "metadata": {},
   "source": [
    "#### *Chargement de la feuille csv & applications des modifications*"
   ]
  },
  {
   "cell_type": "code",
   "execution_count": 3,
   "metadata": {},
   "outputs": [
    {
     "name": "stdout",
     "output_type": "stream",
     "text": [
      "Load & Modifications : OK\n"
     ]
    }
   ],
   "source": [
    "import pandas as pd \n",
    "\n",
    "\n",
    "df = pd.read_csv('files_csv/GiveMeCredit_Review_Ensemble.csv', index_col=0)\n",
    "df.rename(columns={\"SeriousDlqin2yrs.1\": \"prediction\"}, inplace= True)\n",
    "df['prediction'] = df.apply(threshold, axis = 1)\n",
    "df['error'] = df.apply(error_column, axis = 1)\n",
    "print(\"Load & Modifications : OK\")"
   ]
  },
  {
   "cell_type": "markdown",
   "metadata": {},
   "source": [
    "#### *Confusion Matrix*"
   ]
  },
  {
   "cell_type": "code",
   "execution_count": 4,
   "metadata": {},
   "outputs": [
    {
     "data": {
      "text/plain": [
       "TN    27739\n",
       "FN     1675\n",
       "TP      340\n",
       "FP      246\n",
       "Name: error, dtype: int64"
      ]
     },
     "execution_count": 4,
     "metadata": {},
     "output_type": "execute_result"
    }
   ],
   "source": [
    "confusion_matrix()"
   ]
  },
  {
   "cell_type": "markdown",
   "metadata": {},
   "source": [
    "#### *Accuracy*"
   ]
  },
  {
   "cell_type": "code",
   "execution_count": 5,
   "metadata": {},
   "outputs": [
    {
     "data": {
      "text/plain": [
       "93.59666666666666"
      ]
     },
     "execution_count": 5,
     "metadata": {},
     "output_type": "execute_result"
    }
   ],
   "source": [
    "get_accuracy()"
   ]
  },
  {
   "cell_type": "markdown",
   "metadata": {},
   "source": [
    "#### *Profits*"
   ]
  },
  {
   "cell_type": "code",
   "execution_count": 6,
   "metadata": {},
   "outputs": [
    {
     "data": {
      "text/plain": [
       "9559000"
      ]
     },
     "execution_count": 6,
     "metadata": {},
     "output_type": "execute_result"
    }
   ],
   "source": [
    "get_profits()"
   ]
  },
  {
   "cell_type": "markdown",
   "metadata": {},
   "source": [
    "#### *100 plus grosses erreurs de notre modèle ( Parmis les FN , + petites 1 proba)*"
   ]
  },
  {
   "cell_type": "code",
   "execution_count": 7,
   "metadata": {},
   "outputs": [
    {
     "name": "stdout",
     "output_type": "stream",
     "text": [
      "Enregistrement du fichier .csv en local :  OK\n"
     ]
    }
   ],
   "source": [
    "biggest_mistakes()\n",
    "print(\"Enregistrement du fichier .csv en local :  OK\")"
   ]
  },
  {
   "cell_type": "markdown",
   "metadata": {},
   "source": [
    "#### *Graphique et affichage du seuil opti*"
   ]
  },
  {
   "cell_type": "code",
   "execution_count": 8,
   "metadata": {},
   "outputs": [
    {
     "name": "stdout",
     "output_type": "stream",
     "text": [
      "gain max 10012000 $ | Seuil 0.288\n"
     ]
    }
   ],
   "source": [
    "import matplotlib.pyplot as plt\n",
    "# on fait varier le seuil de 0 à 1000 / 1000 => 0.0001 , 0.0002 ... 1 dans la fonction seuil => gain\n",
    "table = [cost_threshold(n/1000) for n in range(0,1000)]\n",
    "plt.xlabel(\"seuil/1000\")\n",
    "plt.ylabel(\"Gains\")\n",
    "plt.title(\"GiveMeCredit - Kaggle - Ensemble\")\n",
    "\n",
    "plt.plot(table)\n",
    "\n",
    "max_val = max(table)\n",
    "max_threshold = table.index(max_val)/1000\n",
    "print(f'gain max {max_val} $ | Seuil {max_threshold}')"
   ]
  },
  {
   "cell_type": "markdown",
   "metadata": {},
   "source": [
    "#### *Calcul de l'AUC*\n",
    "La courbe ROC trace le taux de faux positifs (FPR) sur l'axe des abscisses et le taux de réponse vraie (TPR) sur l'axe des ordonnées pour tous les seuils (ou valeurs seuils) possibles.\n",
    "\n",
    "\n",
    "On compare chaque Réalité 1 avec tout les Réalité 0 \n",
    "le Nombre de fois ou 1 Proba ( Realité 1 ) > 1 Proba ( Réalité 0 ) / Total des comparaisons \n",
    "\n",
    "On met tout les 1 proba des cas ou réalité = 0 dans une liste\n",
    "Pour chaque 1 Proba realité = 1 on compare avec tout les éléments de la liste \n",
    "Si 1 Proba ( Realite 1 ) > 1 Proba ( Realité 0 ) , on incrémente une variable de 1\n",
    "Pour chaque comparaison on incremente une variable de 1 ( nombre de comparaison )\n",
    "Auc = \" duels gagnés \" / Nombre de comparaisons.\n"
   ]
  },
  {
   "cell_type": "code",
   "execution_count": 9,
   "metadata": {},
   "outputs": [
    {
     "name": "stdout",
     "output_type": "stream",
     "text": [
      "0.8560411705845608\n",
      "0.009560823440551758\n"
     ]
    }
   ],
   "source": [
    "\n",
    "\n",
    "# pos = df.loc[df['SeriousDlqin2yrs'] == 1] # Tout les Positif \n",
    "# neg = df.loc[df['SeriousDlqin2yrs'] == 0] # Tout les negatifs \n",
    "\n",
    "# x = 0\n",
    "# y = 0\n",
    "# # pour chaque 1 proba ( P ) dans toutes les 1 proba (P)\n",
    "# for threshold_pos in pos['1 probability']:\n",
    "#     # pour chaque 1 Proba ( N ) dans toutes les 1 proba ( N )\n",
    "#     for threshold_neg in neg['1 probability']:\n",
    "#         if threshold_pos > threshold_neg:\n",
    "#             x += 1 \n",
    "#         y += 1 \n",
    "# print(\"AUC Modele  = \")\n",
    "# print(x/y)\n",
    "\n",
    "# Ou \n",
    "\n",
    "from sklearn.metrics import roc_auc_score\n",
    "import time \n",
    "\n",
    "start=time.time()\n",
    "actual = df['SeriousDlqin2yrs']\n",
    "scores = df['1 probability']\n",
    "auc = roc_auc_score(actual, scores)\n",
    "print(auc)\n",
    "end = time.time()\n",
    "print(end-start)\n",
    "\n",
    "\n",
    "\n"
   ]
  },
  {
   "cell_type": "markdown",
   "metadata": {},
   "source": [
    "#### *TPR(True Positive Rate)*"
   ]
  },
  {
   "cell_type": "code",
   "execution_count": 10,
   "metadata": {},
   "outputs": [
    {
     "data": {
      "text/plain": [
       "16.87344913151365"
      ]
     },
     "execution_count": 10,
     "metadata": {},
     "output_type": "execute_result"
    }
   ],
   "source": [
    "\n",
    "\n",
    "# tpr = ( tp / (tp + fn)) * 100\n",
    "# 15.533498759305212\n",
    "true_positive_rate(0.5)"
   ]
  },
  {
   "cell_type": "markdown",
   "metadata": {},
   "source": [
    "#### *FPR(False Positive Rate)*"
   ]
  },
  {
   "cell_type": "code",
   "execution_count": 11,
   "metadata": {},
   "outputs": [
    {
     "data": {
      "text/plain": [
       "0.8790423441129177"
      ]
     },
     "execution_count": 11,
     "metadata": {},
     "output_type": "execute_result"
    }
   ],
   "source": [
    "# fpr = (fp / (fp + tn)) * 100\n",
    "# 0.778988743969984\n",
    "\n",
    "false_positive_rate(0.5)\n"
   ]
  },
  {
   "cell_type": "markdown",
   "metadata": {},
   "source": [
    "####  *ROC Curve*\n",
    "Courbe Roc , chaque point de la courbe est x = FPR , y = TPR en fonction d'un seuil donnée \n",
    "-> Pour chaque seuil tout les FPR dans une liste , tout les TPR dans une liste ( 2 fonctions ) \n",
    "-> La fonction ROC f(FPR) = TPR"
   ]
  },
  {
   "cell_type": "code",
   "execution_count": 12,
   "metadata": {},
   "outputs": [
    {
     "data": {
      "image/png": "[encoded data removed]",
      "text/plain": [
       "<Figure size 432x288 with 1 Axes>"
      ]
     },
     "metadata": {
      "needs_background": "light"
     },
     "output_type": "display_data"
    }
   ],
   "source": [
    "# Fonction ( seuil ) = FPR \n",
    "\n",
    "# Faire tourner la fonction seuil = FPR pour chaque valeur du seuil 0.001 -> 1 \n",
    "# mettre le resultat dans un tableau\n",
    "# retourner le tableau \n",
    "\n",
    "import matplotlib.pyplot as plt\n",
    "import numpy as np\n",
    "\n",
    "\n",
    "i = 0\n",
    "false_positive_rate_list = []\n",
    "while i <= 1 : \n",
    "    fpr = false_positive_rate(i)\n",
    "    false_positive_rate_list.append(fpr)\n",
    "    i += 0.001\n",
    "\n",
    "\n",
    "j = 0\n",
    "true_positive_rate_list = []\n",
    "while j <= 1 : \n",
    "    tpr = true_positive_rate(j)\n",
    "    true_positive_rate_list.append(tpr)\n",
    "    j += 0.001\n",
    "    \n",
    "# # print(true_positive_rate_list)\n",
    "# print(false_positive_rate_list)\n",
    "x = false_positive_rate_list\n",
    "y = true_positive_rate_list\n",
    "\n",
    "\n",
    "plt.title(\"ROC Curve\")\n",
    "plt.xlabel(\"FPR %\")\n",
    "plt.ylabel(\"TPR %\")\n",
    "plt.plot(x,y)\n",
    "plt.show()\n",
    "\n",
    "# OU \n",
    "\n",
    "# from sklearn import metrics\n",
    "# import matplotlib.pyplot as plt\n",
    "\n",
    "# actual = df['SeriousDlqin2yrs']\n",
    "# scores = df['1 probability']\n",
    "# fpr, tpr, thresholds = metrics.roc_curve(actual, scores, pos_label=1)\n",
    "# auc = metrics.roc_auc_score(actual,scores)\n",
    "# # fpr\n",
    "# # tpr\n",
    "# # thresholds\n",
    "# plt.figure()\n",
    "# lw = 2 \n",
    "# # plt.plot(fpr,tpr, color='darkorange', lw = lw, label='ROC curve ( area = %0.2f)' %auc)\n",
    "# plt.plot(fpr, tpr, color='darkorange',\n",
    "#          lw=lw, label='ROC curve (area = %0.2f)' % auc)\n",
    "# # plt.plot([0, 1], [0, 1], color='navy', lw=lw, linestyle='--')\n",
    "# plt.xlim([0.0, 1.0])\n",
    "# plt.ylim([0.0, 1.05])\n",
    "# plt.xlabel('False Positive Rate')\n",
    "# plt.ylabel('True Positive Rate')\n",
    "# plt.title('ROC Curve')\n",
    "# plt.legend(loc=\"lower right\")\n",
    "# plt.show()"
   ]
  },
  {
   "cell_type": "code",
   "execution_count": null,
   "metadata": {},
   "outputs": [],
   "source": []
  }
 ],
 "metadata": {
  "kernelspec": {
   "display_name": "Python 3",
   "language": "python",
   "name": "python3"
  },
  "language_info": {
   "codemirror_mode": {
    "name": "ipython",
    "version": 3
   },
   "file_extension": ".py",
   "mimetype": "text/x-python",
   "name": "python",
   "nbconvert_exporter": "python",
   "pygments_lexer": "ipython3",
   "version": "3.7.4"
  },
  "toc": {
   "base_numbering": 1,
   "nav_menu": {},
   "number_sections": true,
   "sideBar": true,
   "skip_h1_title": false,
   "title_cell": "Table of Contents",
   "title_sidebar": "Contents",
   "toc_cell": false,
   "toc_position": {},
   "toc_section_display": true,
   "toc_window_display": false
  },
  "varInspector": {
   "cols": {
    "lenName": 16,
    "lenType": 16,
    "lenVar": 40
   },
   "kernels_config": {
    "python": {
     "delete_cmd_postfix": "",
     "delete_cmd_prefix": "del ",
     "library": "var_list.py",
     "varRefreshCmd": "print(var_dic_list())"
    },
    "r": {
     "delete_cmd_postfix": ") ",
     "delete_cmd_prefix": "rm(",
     "library": "var_list.r",
     "varRefreshCmd": "cat(var_dic_list()) "
    }
   },
   "types_to_exclude": [
    "module",
    "function",
    "builtin_function_or_method",
    "instance",
    "_Feature"
   ],
   "window_display": false
  }
 },
 "nbformat": 4,
 "nbformat_minor": 2
}
