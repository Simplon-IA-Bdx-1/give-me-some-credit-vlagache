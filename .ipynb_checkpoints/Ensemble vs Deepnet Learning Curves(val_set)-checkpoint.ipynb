{
 "cells": [
  {
   "cell_type": "markdown",
   "metadata": {},
   "source": [
    "## Learning Curves ( Ensemble - Deepnet )"
   ]
  },
  {
   "cell_type": "markdown",
   "metadata": {},
   "source": [
    "#### *Split du train_set de n% , calcul de l'AUC*"
   ]
  },
  {
   "cell_type": "code",
   "execution_count": 13,
   "metadata": {},
   "outputs": [],
   "source": [
    "import pandas as pd\n",
    "from sklearn.metrics import roc_auc_score\n",
    "from bigml.api import BigML\n",
    "\n",
    "\n",
    "api = BigML(project=\"project/5d94a3525a213962e20002f5\") # AUTH dans docker/auth.env\n",
    "df = pd.read_csv('files_csv_perf/GiveMeCredit-Trainset.csv', index_col=0)\n",
    "\n",
    "def data_auc(n):\n",
    "#     api = BigML(project=\"project/5d94a3525a213962e20002f5\") # AUTH dans docker/auth.env\n",
    "#     df = pd.read_csv('files_csv_perf/GiveMeCredit-Trainset.csv', index_col=0)\n",
    "    \n",
    "    # split de n% du train_set\n",
    "    train_split = df.head(int(len(df)*(n/100)))\n",
    "\n",
    "    ### Enregistrement csv \n",
    "    path = f\"files_csv_perf/train_split_{n}.csv\"\n",
    "    batch_path_ens  = f\"files_csv_perf/GiveMeCredit_Review_Ensemble_Train{n}.csv\"\n",
    "    batch_path_deep  = f\"files_csv_perf/GiveMeCredit_Review_Deepnet_Train{n}.csv\"\n",
    "    \n",
    "    train_split.to_csv(path)\n",
    "\n",
    "    # Creation d'une source\n",
    "    source = api.create_source(path)\n",
    "    api.ok(source)\n",
    "    # Creation d'un dataset ( = source )\n",
    "    dataset_train = api.create_dataset(source)\n",
    "    api.ok(dataset_train)\n",
    "\n",
    "    # Récuperation des 20% validation set \n",
    "\n",
    "    test_dataset = api.get_dataset('dataset/5db9ab475299631de9001020')\n",
    "\n",
    "    # Création d'un modele ensemble avec les n% \n",
    "    ensemble = api.create_ensemble(dataset_train , {\"objective_field\" : \"SeriousDlqin2yrs\"})\n",
    "    print(f\"Création model {n} % du train_set - Ensemble\")\n",
    "    \n",
    "    # Création d'un modele deepnet avec les n%\n",
    "    \n",
    "    deepnet = api.create_deepnet(dataset_train , {\"objective_field\" : \"SeriousDlqin2yrs\"})\n",
    "    print(f\"Création model {n} % du train_set - Deepnet\")\n",
    "    \n",
    "    \n",
    "    # Récupération des batchs prédiction Ensemble - Deepnet \n",
    "\n",
    "    batch_prediction_ens = api.create_batch_prediction(ensemble, test_dataset,{\"header\": True, \"all_fields\": True, \"probabilities\": True})\n",
    "    api.ok(batch_prediction_ens)\n",
    "    api.download_batch_prediction(batch_prediction_ens,filename=batch_path_ens)\n",
    "    \n",
    "    batch_prediction_deep = api.create_batch_prediction(deepnet, test_dataset,{\"header\": True, \"all_fields\": True, \"probabilities\": True})\n",
    "    api.ok(batch_prediction_deep)\n",
    "    api.download_batch_prediction(batch_prediction_deep,filename=batch_path_deep)\n",
    "\n",
    "    #### AUC \n",
    "\n",
    "    df_ens = pd.read_csv(batch_path_ens, index_col=0)\n",
    "    df_deep = pd.read_csv(batch_path_deep, index_col=0)\n",
    "\n",
    "    actual_ens = df_ens['SeriousDlqin2yrs']\n",
    "    scores_ens = df_ens['1 probability']\n",
    "    auc_ens = roc_auc_score(actual_ens, scores_ens)\n",
    "    \n",
    "    actual_deep = df_deep['SeriousDlqin2yrs']\n",
    "    scores_deep = df_deep['1 probability']\n",
    "    auc_deep = roc_auc_score(actual_deep, scores_deep)\n",
    "    \n",
    "    \n",
    "    return auc_ens , auc_deep\n"
   ]
  },
  {
   "cell_type": "code",
   "execution_count": 14,
   "metadata": {
    "scrolled": true
   },
   "outputs": [
    {
     "name": "stdout",
     "output_type": "stream",
     "text": [
      "Création model 10 % du train_set - Ensemble\n",
      "Création model 10 % du train_set - Deepnet\n",
      "Création model 20 % du train_set - Ensemble\n",
      "Création model 20 % du train_set - Deepnet\n",
      "Création model 30 % du train_set - Ensemble\n",
      "Création model 30 % du train_set - Deepnet\n",
      "Création model 40 % du train_set - Ensemble\n",
      "Création model 40 % du train_set - Deepnet\n",
      "Création model 50 % du train_set - Ensemble\n",
      "Création model 50 % du train_set - Deepnet\n",
      "Création model 60 % du train_set - Ensemble\n",
      "Création model 60 % du train_set - Deepnet\n",
      "Création model 70 % du train_set - Ensemble\n",
      "Création model 70 % du train_set - Deepnet\n",
      "Création model 80 % du train_set - Ensemble\n",
      "Création model 80 % du train_set - Deepnet\n",
      "Création model 90 % du train_set - Ensemble\n",
      "Création model 90 % du train_set - Deepnet\n",
      "Création model 100 % du train_set - Ensemble\n",
      "Création model 100 % du train_set - Deepnet\n"
     ]
    },
    {
     "data": {
      "image/png": "[encoded data removed]",
      "text/plain": [
       "<Figure size 684x432 with 1 Axes>"
      ]
     },
     "metadata": {
      "needs_background": "light"
     },
     "output_type": "display_data"
    }
   ],
   "source": [
    "import matplotlib.pyplot as plt\n",
    "import pickle\n",
    "\n",
    "n = 10\n",
    "auc_list_ens = []\n",
    "auc_list_deep = []\n",
    "data_amount_list = []\n",
    "while n <= 100:\n",
    "    auc_ens , auc_deep = data_auc(n)\n",
    "    auc_list_ens.append(auc_ens)\n",
    "    auc_list_deep.append(auc_deep)\n",
    "    data_amount_list.append(n)\n",
    "    n += 10\n",
    "    \n",
    "plt.rcParams['figure.figsize'] = [9.5 , 6]\n",
    "plt.xlabel(\"Amount of Data\")\n",
    "plt.ylabel(\"Performance\")\n",
    "plt.plot(data_amount_list,auc_list_ens, color=\"blue\", label='Ensemble')\n",
    "plt.plot(data_amount_list,auc_list_deep, color=\"red\", label='Deepnet')\n",
    "plt.legend(loc=\"lower right\")\n",
    "plt.savefig('graphs/learningcurves_ensemble_deepnet_val.png')\n",
    "plt.show()\n",
    "\n",
    "\n",
    "\n",
    "pickle_out_ens = open(\"auc/auc_ens_val\",\"wb\")\n",
    "pickle_out_deep = open(\"auc/auc_deep_val\",\"wb\")\n",
    "pickle.dump(auc_list_ens, pickle_out_ens)\n",
    "pickle.dump(auc_list_deep, pickle_out_deep)\n",
    "pickle_out_ens.close()\n",
    "pickle_out_deep.close()\n",
    "\n",
    "\n",
    "\n",
    "\n"
   ]
  }
 ],
 "metadata": {
  "celltoolbar": "Diaporama",
  "kernelspec": {
   "display_name": "Python 3",
   "language": "python",
   "name": "python3"
  },
  "language_info": {
   "codemirror_mode": {
    "name": "ipython",
    "version": 3
   },
   "file_extension": ".py",
   "mimetype": "text/x-python",
   "name": "python",
   "nbconvert_exporter": "python",
   "pygments_lexer": "ipython3",
   "version": "3.7.4"
  }
 },
 "nbformat": 4,
 "nbformat_minor": 2
}
