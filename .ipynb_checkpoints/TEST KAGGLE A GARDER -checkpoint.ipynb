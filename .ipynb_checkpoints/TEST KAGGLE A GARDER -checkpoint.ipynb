{
 "cells": [
  {
   "cell_type": "code",
   "execution_count": 13,
   "metadata": {},
   "outputs": [],
   "source": [
    "# A faire \n",
    "\n",
    "\n",
    "# 1- Recuperer dataset initial \n",
    "# 2- Ajout des nouvelles features \n",
    "# 3- Entrainer un modele sur le dataset FULL \n",
    "# 4- Recuperer fichier test kaggle \n",
    "# 5- ajout des memes nouvelles features \n",
    "# 6- Envoi Kaggle \n",
    "\n",
    "\n",
    "\n",
    "# train full = https://bigml.com/dashboard/dataset/5db96779e47684746800dbd5\n",
    "# origin_dataset = api.get_ensemble('dataset/5db96779e47684746800dbd5')\n",
    "# kaggle_dataset = api.get_ensemble('dataset/5db969b3e47684746800dbf3')\n"
   ]
  },
  {
   "cell_type": "code",
   "execution_count": 16,
   "metadata": {},
   "outputs": [],
   "source": [
    "from bigml.api import BigML\n",
    "from pandas import read_csv\n",
    "api = BigML(project=\"project/5d94a3525a213962e20002f5\") # AUTH dans docker/auth.env"
   ]
  },
  {
   "cell_type": "markdown",
   "metadata": {},
   "source": [
    "#### *Récupération du dataset Initial + new features*"
   ]
  },
  {
   "cell_type": "code",
   "execution_count": 19,
   "metadata": {},
   "outputs": [
    {
     "name": "stdout",
     "output_type": "stream",
     "text": [
      "Création model OK\n"
     ]
    }
   ],
   "source": [
    "origin_dataset = api.get_ensemble('dataset/5db96779e47684746800dbd5')\n",
    "# ensemble = api.create_ensemble(origin_dataset , {\"objective_field\" : \"SeriousDlqin2yrs\"})\n",
    "print(\"Création model OK\")"
   ]
  },
  {
   "cell_type": "markdown",
   "metadata": {},
   "source": [
    "#### *récupération fichier test Kaggle ( + new features)*"
   ]
  },
  {
   "cell_type": "code",
   "execution_count": 21,
   "metadata": {},
   "outputs": [
    {
     "data": {
      "text/plain": [
       "True"
      ]
     },
     "execution_count": 21,
     "metadata": {},
     "output_type": "execute_result"
    }
   ],
   "source": [
    "# source_kaggle = api.create_source('files_csv/kaggle_dataset_modif.csv')\n",
    "# api.ok(source_kaggle)\n",
    "# kaggle_dataset= api.create_dataset(source_kaggle)\n",
    "# api.ok(kaggle_dataset)\n",
    "# print(\"https://bigml.com/dashboard/%s\" % ensemble['resource'])\n",
    "kaggle_dataset = api.get_ensemble('dataset/5db969b3e47684746800dbf3')\n"
   ]
  },
  {
   "cell_type": "markdown",
   "metadata": {},
   "source": [
    "#### *Prédiction sur le fichier test Kaggle de notre modèle*"
   ]
  },
  {
   "cell_type": "code",
   "execution_count": 22,
   "metadata": {},
   "outputs": [
    {
     "data": {
      "text/plain": [
       "'files_csv/GiveMeCredit_Prediction_Kaggle.csv'"
      ]
     },
     "execution_count": 22,
     "metadata": {},
     "output_type": "execute_result"
    }
   ],
   "source": [
    "batch_prediction_kaggle = api.create_batch_prediction(ensemble, kaggle_dataset,{\"all_fields\": True,\"probabilities\": True})\n",
    "api.ok(batch_prediction_kaggle)\n",
    "api.download_batch_prediction(batch_prediction_kaggle,filename='files_csv/GiveMeCredit_Prediction_Kaggle.csv')"
   ]
  },
  {
   "cell_type": "markdown",
   "metadata": {},
   "source": [
    "#### *Formatage du fichier au format attendu par Kaggle*"
   ]
  },
  {
   "cell_type": "code",
   "execution_count": 23,
   "metadata": {},
   "outputs": [
    {
     "name": "stdout",
     "output_type": "stream",
     "text": [
      "Modifications OK\n"
     ]
    }
   ],
   "source": [
    "from pandas import read_csv\n",
    "\n",
    "df_final_prediction = read_csv(\"files_csv/GiveMeCredit_Prediction_Kaggle.csv\")\n",
    "keep_col = ['Id','1 probability']\n",
    "new_final_prediction = df_final_prediction[keep_col]\n",
    "new_final_prediction.rename(columns={'1 probability':'Probability'}, inplace=True)\n",
    "new_final_prediction.to_csv('files_csv/GiveMeCredit_Kaggle_format.csv', index=False)\n",
    "print(\"Modifications OK\")"
   ]
  },
  {
   "cell_type": "markdown",
   "metadata": {},
   "source": [
    "#### *Envoi à Kaggle*"
   ]
  },
  {
   "cell_type": "code",
   "execution_count": 24,
   "metadata": {},
   "outputs": [
    {
     "name": "stderr",
     "output_type": "stream",
     "text": [
      "100%|██████████| 1.66M/1.66M [00:05<00:00, 296kB/s]\n"
     ]
    },
    {
     "data": {
      "text/plain": [
       "Successfully submitted to Give Me Some Credit"
      ]
     },
     "execution_count": 24,
     "metadata": {},
     "output_type": "execute_result"
    }
   ],
   "source": [
    "import kaggle \n",
    "\n",
    "submission_file = 'files_csv/GiveMeCredit_Kaggle_format.csv'\n",
    "kaggle.api.competition_submit(submission_file, \"BigML ensemble\", \"GiveMeSomeCredit\")"
   ]
  }
 ],
 "metadata": {
  "kernelspec": {
   "display_name": "Python 3",
   "language": "python",
   "name": "python3"
  },
  "language_info": {
   "codemirror_mode": {
    "name": "ipython",
    "version": 3
   },
   "file_extension": ".py",
   "mimetype": "text/x-python",
   "name": "python",
   "nbconvert_exporter": "python",
   "pygments_lexer": "ipython3",
   "version": "3.7.4"
  }
 },
 "nbformat": 4,
 "nbformat_minor": 2
}
