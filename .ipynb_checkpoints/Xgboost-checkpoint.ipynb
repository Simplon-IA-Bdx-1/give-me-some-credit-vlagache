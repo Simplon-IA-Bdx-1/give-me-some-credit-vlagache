{
 "cells": [
  {
   "cell_type": "markdown",
   "metadata": {},
   "source": [
    "## *Création d'un model xgboost + Envoi Kaggle*"
   ]
  },
  {
   "cell_type": "code",
   "execution_count": 1,
   "metadata": {
    "ExecuteTime": {
     "end_time": "2019-11-16T08:26:57.973820Z",
     "start_time": "2019-11-16T08:26:57.949813Z"
    }
   },
   "outputs": [],
   "source": [
    "from pandas import read_csv\n",
    "from numpy import random\n",
    "from sklearn.model_selection import train_test_split"
   ]
  },
  {
   "cell_type": "code",
   "execution_count": 2,
   "metadata": {},
   "outputs": [
    {
     "name": "stdout",
     "output_type": "stream",
     "text": [
      "Stored variables and their in-db values:\n",
      "df                         ->         RevolvingUtilizationOfUnsecuredLines  age \n",
      "model                      -> XGBClassifier(base_score=0.5, booster='gbtree', co\n",
      "train_prepared             ->         RevolvingUtilizationOfUnsecuredLines  age \n"
     ]
    }
   ],
   "source": [
    "%store"
   ]
  },
  {
   "cell_type": "code",
   "execution_count": 3,
   "metadata": {},
   "outputs": [
    {
     "name": "stdout",
     "output_type": "stream",
     "text": [
      "(150000, 11)\n"
     ]
    }
   ],
   "source": [
    "%store -r \n",
    "data = df\n",
    "print(data.shape)"
   ]
  },
  {
   "cell_type": "markdown",
   "metadata": {},
   "source": [
    "### *ajout des features au train full*"
   ]
  },
  {
   "cell_type": "code",
   "execution_count": 7,
   "metadata": {
    "ExecuteTime": {
     "end_time": "2019-11-16T08:26:59.283717Z",
     "start_time": "2019-11-16T08:26:57.978170Z"
    }
   },
   "outputs": [
    {
     "ename": "NameError",
     "evalue": "name 'train_full' is not defined",
     "output_type": "error",
     "traceback": [
      "\u001b[0;31m---------------------------------------------------------------------------\u001b[0m",
      "\u001b[0;31mNameError\u001b[0m                                 Traceback (most recent call last)",
      "\u001b[0;32m<ipython-input-7-4abdbf8705ee>\u001b[0m in \u001b[0;36m<module>\u001b[0;34m\u001b[0m\n\u001b[1;32m      1\u001b[0m \u001b[0;32mfrom\u001b[0m \u001b[0mipynb\u001b[0m\u001b[0;34m.\u001b[0m\u001b[0mfs\u001b[0m\u001b[0;34m.\u001b[0m\u001b[0mdefs\u001b[0m\u001b[0;34m.\u001b[0m\u001b[0mfonctions\u001b[0m \u001b[0;32mimport\u001b[0m \u001b[0mfeatures\u001b[0m\u001b[0;34m\u001b[0m\u001b[0;34m\u001b[0m\u001b[0m\n\u001b[0;32m----> 2\u001b[0;31m \u001b[0mtrain_full\u001b[0m \u001b[0;34m=\u001b[0m \u001b[0mfeatures\u001b[0m\u001b[0;34m(\u001b[0m\u001b[0mtrain_full\u001b[0m\u001b[0;34m)\u001b[0m\u001b[0;34m\u001b[0m\u001b[0;34m\u001b[0m\u001b[0m\n\u001b[0m\u001b[1;32m      3\u001b[0m \u001b[0mprint\u001b[0m\u001b[0;34m(\u001b[0m\u001b[0mtrain_full\u001b[0m\u001b[0;34m.\u001b[0m\u001b[0mshape\u001b[0m\u001b[0;34m)\u001b[0m\u001b[0;34m\u001b[0m\u001b[0;34m\u001b[0m\u001b[0m\n",
      "\u001b[0;31mNameError\u001b[0m: name 'train_full' is not defined"
     ]
    }
   ],
   "source": [
    "from ipynb.fs.defs.fonctions import features\n",
    "train_full = features(data)\n",
    "print(train_full.shape)"
   ]
  },
  {
   "cell_type": "markdown",
   "metadata": {},
   "source": [
    "#### *SEED*"
   ]
  },
  {
   "cell_type": "code",
   "execution_count": null,
   "metadata": {
    "ExecuteTime": {
     "end_time": "2019-11-16T08:26:59.302770Z",
     "start_time": "2019-11-16T08:26:59.288782Z"
    }
   },
   "outputs": [],
   "source": [
    "SEED = 42\n",
    "random.seed(SEED)"
   ]
  },
  {
   "cell_type": "markdown",
   "metadata": {},
   "source": [
    "#### Test Auc en fonction de split différents ( pour avoir le meilleur split )"
   ]
  },
  {
   "cell_type": "markdown",
   "metadata": {},
   "source": [
    "#### *Split train full*"
   ]
  },
  {
   "cell_type": "code",
   "execution_count": null,
   "metadata": {
    "ExecuteTime": {
     "end_time": "2019-11-16T08:27:03.659301Z",
     "start_time": "2019-11-16T08:26:59.325377Z"
    }
   },
   "outputs": [],
   "source": [
    "VAL_SIZE = 0.3 # Best auc with val_Size = 0.3\n",
    "train, val = train_test_split(train_full, test_size=VAL_SIZE)\n",
    "\n",
    "print(\"Train full shape: \" + str(train_full.shape))\n",
    "print(\"Train shape: \" + str(train.shape))\n",
    "print(\"Val shape: \" + str(val.shape))\n",
    "\n",
    "train.to_csv(\"files_csv/train_sk.csv\")\n",
    "val.to_csv(\"files_csv/val_sk.csv\")"
   ]
  },
  {
   "cell_type": "markdown",
   "metadata": {},
   "source": [
    "### *Load prepared dataset*"
   ]
  },
  {
   "cell_type": "code",
   "execution_count": null,
   "metadata": {
    "ExecuteTime": {
     "end_time": "2019-11-16T08:27:04.601508Z",
     "start_time": "2019-11-16T08:27:03.664007Z"
    }
   },
   "outputs": [],
   "source": [
    "train_prepared = read_csv('files_csv/train_sk.csv', index_col=0)\n",
    "%store train_prepared\n",
    "val_prepared = read_csv('files_csv/val_sk.csv', index_col=0)"
   ]
  },
  {
   "cell_type": "markdown",
   "metadata": {
    "ExecuteTime": {
     "end_time": "2019-11-06T11:31:37.206472Z",
     "start_time": "2019-11-06T11:31:37.203853Z"
    }
   },
   "source": [
    "#### *y_train = Seriousdlsin2yrs*"
   ]
  },
  {
   "cell_type": "code",
   "execution_count": null,
   "metadata": {
    "ExecuteTime": {
     "end_time": "2019-11-16T08:27:04.618368Z",
     "start_time": "2019-11-16T08:27:04.607398Z"
    }
   },
   "outputs": [],
   "source": [
    "target_column = 'SeriousDlqin2yrs'\n",
    "y_train = train_prepared[target_column].values\n",
    "print(y_train)"
   ]
  },
  {
   "cell_type": "markdown",
   "metadata": {
    "ExecuteTime": {
     "end_time": "2019-11-06T11:32:19.092310Z",
     "start_time": "2019-11-06T11:32:19.089985Z"
    }
   },
   "source": [
    "#### Tout le train sans la colonne output"
   ]
  },
  {
   "cell_type": "code",
   "execution_count": null,
   "metadata": {
    "ExecuteTime": {
     "end_time": "2019-11-16T08:27:04.672234Z",
     "start_time": "2019-11-16T08:27:04.622132Z"
    }
   },
   "outputs": [],
   "source": [
    "from pprint import pprint\n",
    "X_train = train_prepared.drop(target_column, axis=1).values\n",
    "pprint(X_train)"
   ]
  },
  {
   "cell_type": "markdown",
   "metadata": {
    "ExecuteTime": {
     "end_time": "2019-11-06T12:45:14.792140Z",
     "start_time": "2019-11-06T12:45:14.789191Z"
    }
   },
   "source": [
    "#### *Pareil pour le val_set*"
   ]
  },
  {
   "cell_type": "code",
   "execution_count": null,
   "metadata": {
    "ExecuteTime": {
     "end_time": "2019-11-16T08:27:04.689221Z",
     "start_time": "2019-11-16T08:27:04.678904Z"
    }
   },
   "outputs": [],
   "source": [
    "X_val = val_prepared.drop(target_column, axis=1).values\n",
    "y_val = val_prepared[target_column].values"
   ]
  },
  {
   "cell_type": "markdown",
   "metadata": {
    "ExecuteTime": {
     "end_time": "2019-11-06T12:47:17.364182Z",
     "start_time": "2019-11-06T12:47:17.361762Z"
    }
   },
   "source": [
    "### *Prepared train set*"
   ]
  },
  {
   "cell_type": "code",
   "execution_count": null,
   "metadata": {
    "ExecuteTime": {
     "end_time": "2019-11-16T08:27:13.437100Z",
     "start_time": "2019-11-16T08:27:04.692616Z"
    }
   },
   "outputs": [],
   "source": [
    "from xgboost import XGBClassifier\n",
    "model = XGBClassifier()\n",
    "model.fit(X_train, y_train)\n",
    "%store model"
   ]
  },
  {
   "cell_type": "markdown",
   "metadata": {},
   "source": [
    "### *Apply model to val set*"
   ]
  },
  {
   "cell_type": "code",
   "execution_count": null,
   "metadata": {
    "ExecuteTime": {
     "end_time": "2019-11-16T08:27:13.564041Z",
     "start_time": "2019-11-16T08:27:13.439020Z"
    }
   },
   "outputs": [],
   "source": [
    "y_val_proba = model.predict_proba(X_val)\n",
    "print(y_val_proba) # 1 Proba"
   ]
  },
  {
   "cell_type": "code",
   "execution_count": null,
   "metadata": {
    "ExecuteTime": {
     "end_time": "2019-11-16T08:27:13.583489Z",
     "start_time": "2019-11-16T08:27:13.565740Z"
    }
   },
   "outputs": [],
   "source": [
    "y_val_proba = y_val_proba[:,1]\n",
    "print(y_val_proba)"
   ]
  },
  {
   "cell_type": "code",
   "execution_count": null,
   "metadata": {
    "ExecuteTime": {
     "end_time": "2019-11-16T08:27:13.700682Z",
     "start_time": "2019-11-16T08:27:13.589833Z"
    }
   },
   "outputs": [],
   "source": [
    "from sklearn import metrics\n",
    "metrics.roc_auc_score(y_val, y_val_proba)"
   ]
  },
  {
   "cell_type": "markdown",
   "metadata": {
    "ExecuteTime": {
     "end_time": "2019-11-06T12:59:19.883601Z",
     "start_time": "2019-11-06T12:59:19.880803Z"
    }
   },
   "source": [
    "### *Envoi Kaggle*"
   ]
  },
  {
   "cell_type": "markdown",
   "metadata": {},
   "source": [
    "#### *Prédiction sur le fichier kaggle et mise en forme*"
   ]
  },
  {
   "cell_type": "code",
   "execution_count": null,
   "metadata": {
    "ExecuteTime": {
     "end_time": "2019-11-16T08:27:14.931175Z",
     "start_time": "2019-11-16T08:27:13.702746Z"
    }
   },
   "outputs": [],
   "source": [
    "import pandas as pd\n",
    "\n",
    "kaggle_prepared = read_csv('files_csv/kaggle_dataset_modif.csv', index_col=0)\n",
    "X_kag = kaggle_prepared.drop(target_column, axis=1).values\n",
    "y_kag = kaggle_prepared[target_column].values\n",
    "y_kag_proba =  model.predict_proba(X_kag)[:,1] # toutes les lignes colonnes 1\n",
    "\n",
    "\n",
    "Id = [i+1 for i in range(len(X_kag))]\n",
    "d = {'Id': Id, 'Probability': y_kag_proba}\n",
    "kaggle_df = pd.DataFrame(data=d)\n",
    "kaggle_df.to_csv(\"files_csv/prediction_sk.csv\", index=False)"
   ]
  },
  {
   "cell_type": "markdown",
   "metadata": {},
   "source": [
    "#### *Envoi Kaggle*"
   ]
  },
  {
   "cell_type": "code",
   "execution_count": null,
   "metadata": {
    "ExecuteTime": {
     "end_time": "2019-11-16T08:27:20.365563Z",
     "start_time": "2019-11-16T08:27:14.933135Z"
    }
   },
   "outputs": [],
   "source": [
    "import kaggle\n",
    "submission_file = 'files_csv/prediction_sk.csv'\n",
    "kaggle.api.competition_submit(submission_file, \"BigML ensemble\", \"GiveMeSomeCredit\")"
   ]
  },
  {
   "cell_type": "code",
   "execution_count": null,
   "metadata": {},
   "outputs": [],
   "source": []
  }
 ],
 "metadata": {
  "kernelspec": {
   "display_name": "Python 3",
   "language": "python",
   "name": "python3"
  },
  "language_info": {
   "codemirror_mode": {
    "name": "ipython",
    "version": 3
   },
   "file_extension": ".py",
   "mimetype": "text/x-python",
   "name": "python",
   "nbconvert_exporter": "python",
   "pygments_lexer": "ipython3",
   "version": "3.7.4"
  },
  "toc": {
   "base_numbering": 1,
   "nav_menu": {},
   "number_sections": true,
   "sideBar": true,
   "skip_h1_title": false,
   "title_cell": "Table of Contents",
   "title_sidebar": "Contents",
   "toc_cell": false,
   "toc_position": {},
   "toc_section_display": true,
   "toc_window_display": false
  },
  "varInspector": {
   "cols": {
    "lenName": 16,
    "lenType": 16,
    "lenVar": 40
   },
   "kernels_config": {
    "python": {
     "delete_cmd_postfix": "",
     "delete_cmd_prefix": "del ",
     "library": "var_list.py",
     "varRefreshCmd": "print(var_dic_list())"
    },
    "r": {
     "delete_cmd_postfix": ") ",
     "delete_cmd_prefix": "rm(",
     "library": "var_list.r",
     "varRefreshCmd": "cat(var_dic_list()) "
    }
   },
   "types_to_exclude": [
    "module",
    "function",
    "builtin_function_or_method",
    "instance",
    "_Feature"
   ],
   "window_display": false
  }
 },
 "nbformat": 4,
 "nbformat_minor": 2
}
