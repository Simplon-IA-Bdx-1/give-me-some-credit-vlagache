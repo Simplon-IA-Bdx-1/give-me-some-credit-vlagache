{
 "cells": [
  {
   "cell_type": "code",
   "execution_count": 18,
   "metadata": {},
   "outputs": [
    {
     "name": "stdout",
     "output_type": "stream",
     "text": [
      "-Connection Big ML \n",
      "-Création model OK\n",
      "-Batch Prediction Deepnet OK\n",
      "-Prediction Kaggle OK \n",
      "-Modifications OK\n"
     ]
    },
    {
     "name": "stderr",
     "output_type": "stream",
     "text": [
      "100%|██████████| 1.65M/1.65M [00:02<00:00, 701kB/s] \n"
     ]
    },
    {
     "data": {
      "text/plain": [
       "Successfully submitted to Give Me Some Credit"
      ]
     },
     "execution_count": 18,
     "metadata": {},
     "output_type": "execute_result"
    }
   ],
   "source": [
    "from bigml.api import BigML\n",
    "from pandas import read_csv\n",
    "import kaggle \n",
    "\n",
    "api = BigML(project=\"project/5d94a3525a213962e20002f5\") # AUTH dans docker/auth.env\n",
    "print(\"-Connection Big ML \")\n",
    "\n",
    "\n",
    "origin_dataset = api.get_dataset('dataset/5db9ab18e47684746800dd3c')\n",
    "kaggle_dataset = api.get_dataset('dataset/5db9abdbe47684746800dd59')\n",
    "train_dataset = api.get_dataset('dataset/5db9ab467811dd0554000ec0')\n",
    "test_dataset = api.get_dataset('dataset/5db9ab475299631de9001020')\n",
    "\n",
    "deepnet = api.create_deepnet(train_dataset , {\"objective_field\" : \"SeriousDlqin2yrs\"})\n",
    "print(\"-Création model OK\")\n",
    "\n",
    "batch_prediction = api.create_batch_prediction(deepnet, test_dataset,{\"header\": True, \"all_fields\": True, \"probabilities\": True})\n",
    "api.ok(batch_prediction)\n",
    "api.download_batch_prediction(batch_prediction,filename='files_csv/GiveMeCredit_Review_Deepnet.csv')\n",
    "\n",
    "print(\"-Batch Prediction Deepnet OK\")\n",
    "\n",
    "batch_prediction_kaggle = api.create_batch_prediction(deepnet, kaggle_dataset,{\"all_fields\": True,\"probabilities\": True})\n",
    "api.ok(batch_prediction_kaggle)\n",
    "api.download_batch_prediction(batch_prediction_kaggle,filename='files_csv/GiveMeCredit_Prediction_Kaggle_Deepnet.csv')\n",
    "\n",
    "print(\"-Prediction Kaggle OK \")\n",
    "\n",
    "df_final_prediction = read_csv(\"files_csv/GiveMeCredit_Prediction_Kaggle_Deepnet.csv\")\n",
    "keep_col = ['Id','1 probability']\n",
    "new_final_prediction = df_final_prediction[keep_col]\n",
    "new_final_prediction.rename(columns={'1 probability':'Probability'}, inplace=True)\n",
    "new_final_prediction.to_csv('files_csv/GiveMeCredit_Kaggle_Deepnet_format.csv', index=False)\n",
    "print(\"-Modifications OK\")\n",
    "\n",
    "\n",
    "submission_file = 'files_csv/GiveMeCredit_Kaggle_Deepnet_format.csv'\n",
    "kaggle.api.competition_submit(submission_file, \"BigML deepnet\", \"GiveMeSomeCredit\")"
   ]
  },
  {
   "cell_type": "code",
   "execution_count": null,
   "metadata": {},
   "outputs": [],
   "source": []
  }
 ],
 "metadata": {
  "kernelspec": {
   "display_name": "Python 3",
   "language": "python",
   "name": "python3"
  },
  "language_info": {
   "codemirror_mode": {
    "name": "ipython",
    "version": 3
   },
   "file_extension": ".py",
   "mimetype": "text/x-python",
   "name": "python",
   "nbconvert_exporter": "python",
   "pygments_lexer": "ipython3",
   "version": "3.7.4"
  }
 },
 "nbformat": 4,
 "nbformat_minor": 2
}
